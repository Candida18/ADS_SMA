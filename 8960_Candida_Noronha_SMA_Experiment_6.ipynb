{
  "nbformat": 4,
  "nbformat_minor": 0,
  "metadata": {
    "colab": {
      "provenance": [],
      "include_colab_link": true
    },
    "kernelspec": {
      "name": "python3",
      "display_name": "Python 3"
    },
    "language_info": {
      "name": "python"
    }
  },
  "cells": [
    {
      "cell_type": "markdown",
      "metadata": {
        "id": "view-in-github",
        "colab_type": "text"
      },
      "source": [
        "<a href=\"https://colab.research.google.com/github/Candida18/ADS_SMA/blob/main/8960_Candida_Noronha_SMA_Experiment_6.ipynb\" target=\"_parent\"><img src=\"https://colab.research.google.com/assets/colab-badge.svg\" alt=\"Open In Colab\"/></a>"
      ]
    },
    {
      "cell_type": "markdown",
      "source": [
        "### <b>Name: Candida Noronha<br/>\n",
        "### <b>Class: BE COMPS B<br/>\n",
        "### <b>Roll No.: 8960\n",
        "### <b>Experiment 6 - Structure based Social Media Analytics Model "
      ],
      "metadata": {
        "id": "1ybTRyLL75y5"
      }
    },
    {
      "cell_type": "markdown",
      "source": [
        "FaceBook Network Data Analytics Steps:\n",
        "1. Load FaceBook Friends network data set.\n",
        "2. Compute degree, betweenness, edge, eigenvector\n",
        "centrality.\n",
        "3. Find Communities in the network using Network.\n",
        "4. Find bridges in the Facebook Nework Dataset."
      ],
      "metadata": {
        "id": "D5MWdqgXMdrJ"
      }
    },
    {
      "cell_type": "code",
      "source": [
        "from google.colab import drive\n",
        "drive.mount('/content/drive')"
      ],
      "metadata": {
        "colab": {
          "base_uri": "https://localhost:8080/"
        },
        "id": "2pPBWpviVc_f",
        "outputId": "73bca4d2-4a6f-4ea7-bec2-6af78391ad2a"
      },
      "execution_count": null,
      "outputs": [
        {
          "output_type": "stream",
          "name": "stdout",
          "text": [
            "Drive already mounted at /content/drive; to attempt to forcibly remount, call drive.mount(\"/content/drive\", force_remount=True).\n"
          ]
        }
      ]
    },
    {
      "cell_type": "code",
      "source": [
        "import pandas as pd\n",
        "import networkx as nx\n"
      ],
      "metadata": {
        "id": "1i_oLgQFMy_O"
      },
      "execution_count": null,
      "outputs": []
    },
    {
      "cell_type": "code",
      "source": [
        "df=pd.read_csv(\"/content/drive/MyDrive/SEM 8/SMA/Experiment 6/pseudo_facebook.csv\")\n",
        "df. head( )"
      ],
      "metadata": {
        "colab": {
          "base_uri": "https://localhost:8080/",
          "height": 270
        },
        "id": "FgUlIJzzNAtk",
        "outputId": "e3fe60e6-1f74-46ff-8afa-201217830f1d"
      },
      "execution_count": null,
      "outputs": [
        {
          "output_type": "execute_result",
          "data": {
            "text/plain": [
              "    userid  age  dob_day  dob_year  dob_month  gender  tenure  friend_count  \\\n",
              "0  2094382   14       19      1999         11    male   266.0             0   \n",
              "1  1192601   14        2      1999         11  female     6.0             0   \n",
              "2  2083884   14       16      1999         11    male    13.0             0   \n",
              "3  1203168   14       25      1999         12  female    93.0             0   \n",
              "4  1733186   14        4      1999         12    male    82.0             0   \n",
              "\n",
              "   friendships_initiated  likes  likes_received  mobile_likes  \\\n",
              "0                      0      0               0             0   \n",
              "1                      0      0               0             0   \n",
              "2                      0      0               0             0   \n",
              "3                      0      0               0             0   \n",
              "4                      0      0               0             0   \n",
              "\n",
              "   mobile_likes_received  www_likes  www_likes_received  \n",
              "0                      0          0                   0  \n",
              "1                      0          0                   0  \n",
              "2                      0          0                   0  \n",
              "3                      0          0                   0  \n",
              "4                      0          0                   0  "
            ],
            "text/html": [
              "\n",
              "  <div id=\"df-b04228cf-a5e9-4d9d-bab8-e7e96a108543\">\n",
              "    <div class=\"colab-df-container\">\n",
              "      <div>\n",
              "<style scoped>\n",
              "    .dataframe tbody tr th:only-of-type {\n",
              "        vertical-align: middle;\n",
              "    }\n",
              "\n",
              "    .dataframe tbody tr th {\n",
              "        vertical-align: top;\n",
              "    }\n",
              "\n",
              "    .dataframe thead th {\n",
              "        text-align: right;\n",
              "    }\n",
              "</style>\n",
              "<table border=\"1\" class=\"dataframe\">\n",
              "  <thead>\n",
              "    <tr style=\"text-align: right;\">\n",
              "      <th></th>\n",
              "      <th>userid</th>\n",
              "      <th>age</th>\n",
              "      <th>dob_day</th>\n",
              "      <th>dob_year</th>\n",
              "      <th>dob_month</th>\n",
              "      <th>gender</th>\n",
              "      <th>tenure</th>\n",
              "      <th>friend_count</th>\n",
              "      <th>friendships_initiated</th>\n",
              "      <th>likes</th>\n",
              "      <th>likes_received</th>\n",
              "      <th>mobile_likes</th>\n",
              "      <th>mobile_likes_received</th>\n",
              "      <th>www_likes</th>\n",
              "      <th>www_likes_received</th>\n",
              "    </tr>\n",
              "  </thead>\n",
              "  <tbody>\n",
              "    <tr>\n",
              "      <th>0</th>\n",
              "      <td>2094382</td>\n",
              "      <td>14</td>\n",
              "      <td>19</td>\n",
              "      <td>1999</td>\n",
              "      <td>11</td>\n",
              "      <td>male</td>\n",
              "      <td>266.0</td>\n",
              "      <td>0</td>\n",
              "      <td>0</td>\n",
              "      <td>0</td>\n",
              "      <td>0</td>\n",
              "      <td>0</td>\n",
              "      <td>0</td>\n",
              "      <td>0</td>\n",
              "      <td>0</td>\n",
              "    </tr>\n",
              "    <tr>\n",
              "      <th>1</th>\n",
              "      <td>1192601</td>\n",
              "      <td>14</td>\n",
              "      <td>2</td>\n",
              "      <td>1999</td>\n",
              "      <td>11</td>\n",
              "      <td>female</td>\n",
              "      <td>6.0</td>\n",
              "      <td>0</td>\n",
              "      <td>0</td>\n",
              "      <td>0</td>\n",
              "      <td>0</td>\n",
              "      <td>0</td>\n",
              "      <td>0</td>\n",
              "      <td>0</td>\n",
              "      <td>0</td>\n",
              "    </tr>\n",
              "    <tr>\n",
              "      <th>2</th>\n",
              "      <td>2083884</td>\n",
              "      <td>14</td>\n",
              "      <td>16</td>\n",
              "      <td>1999</td>\n",
              "      <td>11</td>\n",
              "      <td>male</td>\n",
              "      <td>13.0</td>\n",
              "      <td>0</td>\n",
              "      <td>0</td>\n",
              "      <td>0</td>\n",
              "      <td>0</td>\n",
              "      <td>0</td>\n",
              "      <td>0</td>\n",
              "      <td>0</td>\n",
              "      <td>0</td>\n",
              "    </tr>\n",
              "    <tr>\n",
              "      <th>3</th>\n",
              "      <td>1203168</td>\n",
              "      <td>14</td>\n",
              "      <td>25</td>\n",
              "      <td>1999</td>\n",
              "      <td>12</td>\n",
              "      <td>female</td>\n",
              "      <td>93.0</td>\n",
              "      <td>0</td>\n",
              "      <td>0</td>\n",
              "      <td>0</td>\n",
              "      <td>0</td>\n",
              "      <td>0</td>\n",
              "      <td>0</td>\n",
              "      <td>0</td>\n",
              "      <td>0</td>\n",
              "    </tr>\n",
              "    <tr>\n",
              "      <th>4</th>\n",
              "      <td>1733186</td>\n",
              "      <td>14</td>\n",
              "      <td>4</td>\n",
              "      <td>1999</td>\n",
              "      <td>12</td>\n",
              "      <td>male</td>\n",
              "      <td>82.0</td>\n",
              "      <td>0</td>\n",
              "      <td>0</td>\n",
              "      <td>0</td>\n",
              "      <td>0</td>\n",
              "      <td>0</td>\n",
              "      <td>0</td>\n",
              "      <td>0</td>\n",
              "      <td>0</td>\n",
              "    </tr>\n",
              "  </tbody>\n",
              "</table>\n",
              "</div>\n",
              "      <button class=\"colab-df-convert\" onclick=\"convertToInteractive('df-b04228cf-a5e9-4d9d-bab8-e7e96a108543')\"\n",
              "              title=\"Convert this dataframe to an interactive table.\"\n",
              "              style=\"display:none;\">\n",
              "        \n",
              "  <svg xmlns=\"http://www.w3.org/2000/svg\" height=\"24px\"viewBox=\"0 0 24 24\"\n",
              "       width=\"24px\">\n",
              "    <path d=\"M0 0h24v24H0V0z\" fill=\"none\"/>\n",
              "    <path d=\"M18.56 5.44l.94 2.06.94-2.06 2.06-.94-2.06-.94-.94-2.06-.94 2.06-2.06.94zm-11 1L8.5 8.5l.94-2.06 2.06-.94-2.06-.94L8.5 2.5l-.94 2.06-2.06.94zm10 10l.94 2.06.94-2.06 2.06-.94-2.06-.94-.94-2.06-.94 2.06-2.06.94z\"/><path d=\"M17.41 7.96l-1.37-1.37c-.4-.4-.92-.59-1.43-.59-.52 0-1.04.2-1.43.59L10.3 9.45l-7.72 7.72c-.78.78-.78 2.05 0 2.83L4 21.41c.39.39.9.59 1.41.59.51 0 1.02-.2 1.41-.59l7.78-7.78 2.81-2.81c.8-.78.8-2.07 0-2.86zM5.41 20L4 18.59l7.72-7.72 1.47 1.35L5.41 20z\"/>\n",
              "  </svg>\n",
              "      </button>\n",
              "      \n",
              "  <style>\n",
              "    .colab-df-container {\n",
              "      display:flex;\n",
              "      flex-wrap:wrap;\n",
              "      gap: 12px;\n",
              "    }\n",
              "\n",
              "    .colab-df-convert {\n",
              "      background-color: #E8F0FE;\n",
              "      border: none;\n",
              "      border-radius: 50%;\n",
              "      cursor: pointer;\n",
              "      display: none;\n",
              "      fill: #1967D2;\n",
              "      height: 32px;\n",
              "      padding: 0 0 0 0;\n",
              "      width: 32px;\n",
              "    }\n",
              "\n",
              "    .colab-df-convert:hover {\n",
              "      background-color: #E2EBFA;\n",
              "      box-shadow: 0px 1px 2px rgba(60, 64, 67, 0.3), 0px 1px 3px 1px rgba(60, 64, 67, 0.15);\n",
              "      fill: #174EA6;\n",
              "    }\n",
              "\n",
              "    [theme=dark] .colab-df-convert {\n",
              "      background-color: #3B4455;\n",
              "      fill: #D2E3FC;\n",
              "    }\n",
              "\n",
              "    [theme=dark] .colab-df-convert:hover {\n",
              "      background-color: #434B5C;\n",
              "      box-shadow: 0px 1px 3px 1px rgba(0, 0, 0, 0.15);\n",
              "      filter: drop-shadow(0px 1px 2px rgba(0, 0, 0, 0.3));\n",
              "      fill: #FFFFFF;\n",
              "    }\n",
              "  </style>\n",
              "\n",
              "      <script>\n",
              "        const buttonEl =\n",
              "          document.querySelector('#df-b04228cf-a5e9-4d9d-bab8-e7e96a108543 button.colab-df-convert');\n",
              "        buttonEl.style.display =\n",
              "          google.colab.kernel.accessAllowed ? 'block' : 'none';\n",
              "\n",
              "        async function convertToInteractive(key) {\n",
              "          const element = document.querySelector('#df-b04228cf-a5e9-4d9d-bab8-e7e96a108543');\n",
              "          const dataTable =\n",
              "            await google.colab.kernel.invokeFunction('convertToInteractive',\n",
              "                                                     [key], {});\n",
              "          if (!dataTable) return;\n",
              "\n",
              "          const docLinkHtml = 'Like what you see? Visit the ' +\n",
              "            '<a target=\"_blank\" href=https://colab.research.google.com/notebooks/data_table.ipynb>data table notebook</a>'\n",
              "            + ' to learn more about interactive tables.';\n",
              "          element.innerHTML = '';\n",
              "          dataTable['output_type'] = 'display_data';\n",
              "          await google.colab.output.renderOutput(dataTable, element);\n",
              "          const docLink = document.createElement('div');\n",
              "          docLink.innerHTML = docLinkHtml;\n",
              "          element.appendChild(docLink);\n",
              "        }\n",
              "      </script>\n",
              "    </div>\n",
              "  </div>\n",
              "  "
            ]
          },
          "metadata": {},
          "execution_count": 3
        }
      ]
    },
    {
      "cell_type": "code",
      "source": [
        "# Load edge list\n",
        "#age and dob_year is my attribute ,you please add your dataset attributes\n",
        "fb_graph=nx.from_pandas_edgelist(df,source=\"age\", target=\"dob_year\")\n",
        "type(fb_graph)"
      ],
      "metadata": {
        "colab": {
          "base_uri": "https://localhost:8080/"
        },
        "id": "ef85g7SBQmVP",
        "outputId": "8a8cf79c-6078-4689-d606-f4ef4869b971"
      },
      "execution_count": null,
      "outputs": [
        {
          "output_type": "execute_result",
          "data": {
            "text/plain": [
              "networkx.classes.graph.Graph"
            ]
          },
          "metadata": {},
          "execution_count": 4
        }
      ]
    },
    {
      "cell_type": "code",
      "source": [
        "#display all the nodes\n",
        "fb_graph.nodes()"
      ],
      "metadata": {
        "colab": {
          "base_uri": "https://localhost:8080/"
        },
        "id": "qRDxaJYvRf2j",
        "outputId": "bf72ab56-db64-4772-e39c-b0c3c0e2f754"
      },
      "execution_count": null,
      "outputs": [
        {
          "output_type": "execute_result",
          "data": {
            "text/plain": [
              "NodeView((14, 1999, 13, 2000, 15, 1998, 16, 1997, 17, 1996, 18, 1995, 19, 1994, 20, 1993, 21, 1992, 22, 1991, 23, 1990, 24, 1989, 25, 1988, 26, 1987, 27, 1986, 28, 1985, 29, 1984, 30, 1983, 31, 1982, 32, 1981, 33, 1980, 34, 1979, 35, 1978, 36, 1977, 37, 1976, 38, 1975, 39, 1974, 40, 1973, 41, 1972, 42, 1971, 43, 1970, 44, 1969, 45, 1968, 46, 1967, 47, 1966, 48, 1965, 50, 1963, 49, 1964, 51, 1962, 52, 1961, 53, 1960, 54, 1959, 55, 1958, 56, 1957, 57, 1956, 58, 1955, 59, 1954, 60, 1953, 61, 1952, 63, 1950, 62, 1951, 64, 1949, 65, 1948, 67, 1946, 66, 1947, 68, 1945, 69, 1944, 70, 1943, 71, 1942, 73, 1940, 72, 1941, 74, 1939, 76, 1937, 78, 1935, 79, 1934, 84, 1929, 88, 1925, 90, 1923, 92, 1921, 94, 1919, 95, 1918, 97, 1916, 100, 1913, 107, 1906, 108, 1905, 93, 1920, 81, 1932, 102, 1911, 77, 1936, 80, 1933, 75, 1938, 82, 1931, 101, 1912, 103, 1910, 85, 1928, 98, 1915, 106, 1907, 83, 1930, 87, 1926, 89, 1924, 91, 1922, 96, 1917, 86, 1927, 112, 1901, 113, 1900, 104, 1909, 105, 1908, 99, 1914, 111, 1902, 109, 1904, 110, 1903))"
            ]
          },
          "metadata": {},
          "execution_count": 5
        }
      ]
    },
    {
      "cell_type": "code",
      "source": [
        "#display all the edges\n",
        "fb_graph.edges()"
      ],
      "metadata": {
        "colab": {
          "base_uri": "https://localhost:8080/"
        },
        "id": "5RJ5a3daRxs9",
        "outputId": "d0f340fd-b314-450d-c53f-10d4d49b1576"
      },
      "execution_count": null,
      "outputs": [
        {
          "output_type": "execute_result",
          "data": {
            "text/plain": [
              "EdgeView([(14, 1999), (13, 2000), (15, 1998), (16, 1997), (17, 1996), (18, 1995), (19, 1994), (20, 1993), (21, 1992), (22, 1991), (23, 1990), (24, 1989), (25, 1988), (26, 1987), (27, 1986), (28, 1985), (29, 1984), (30, 1983), (31, 1982), (32, 1981), (33, 1980), (34, 1979), (35, 1978), (36, 1977), (37, 1976), (38, 1975), (39, 1974), (40, 1973), (41, 1972), (42, 1971), (43, 1970), (44, 1969), (45, 1968), (46, 1967), (47, 1966), (48, 1965), (50, 1963), (49, 1964), (51, 1962), (52, 1961), (53, 1960), (54, 1959), (55, 1958), (56, 1957), (57, 1956), (58, 1955), (59, 1954), (60, 1953), (61, 1952), (63, 1950), (62, 1951), (64, 1949), (65, 1948), (67, 1946), (66, 1947), (68, 1945), (69, 1944), (70, 1943), (71, 1942), (73, 1940), (72, 1941), (74, 1939), (76, 1937), (78, 1935), (79, 1934), (84, 1929), (88, 1925), (90, 1923), (92, 1921), (94, 1919), (95, 1918), (97, 1916), (100, 1913), (107, 1906), (108, 1905), (93, 1920), (81, 1932), (102, 1911), (77, 1936), (80, 1933), (75, 1938), (82, 1931), (101, 1912), (103, 1910), (85, 1928), (98, 1915), (106, 1907), (83, 1930), (87, 1926), (89, 1924), (91, 1922), (96, 1917), (86, 1927), (112, 1901), (113, 1900), (104, 1909), (105, 1908), (99, 1914), (111, 1902), (109, 1904), (110, 1903)])"
            ]
          },
          "metadata": {},
          "execution_count": 6
        }
      ]
    },
    {
      "cell_type": "code",
      "source": [
        "#add new node in graph\n",
        "fb_graph.add_edge(\"123\",\"2154\")\n",
        "fb_graph.nodes()\n"
      ],
      "metadata": {
        "colab": {
          "base_uri": "https://localhost:8080/"
        },
        "id": "1iRB4TxMR77v",
        "outputId": "8e446541-2d5a-49a3-c483-bb0498fb6f00"
      },
      "execution_count": null,
      "outputs": [
        {
          "output_type": "execute_result",
          "data": {
            "text/plain": [
              "NodeView((14, 1999, 13, 2000, 15, 1998, 16, 1997, 17, 1996, 18, 1995, 19, 1994, 20, 1993, 21, 1992, 22, 1991, 23, 1990, 24, 1989, 25, 1988, 26, 1987, 27, 1986, 28, 1985, 29, 1984, 30, 1983, 31, 1982, 32, 1981, 33, 1980, 34, 1979, 35, 1978, 36, 1977, 37, 1976, 38, 1975, 39, 1974, 40, 1973, 41, 1972, 42, 1971, 43, 1970, 44, 1969, 45, 1968, 46, 1967, 47, 1966, 48, 1965, 50, 1963, 49, 1964, 51, 1962, 52, 1961, 53, 1960, 54, 1959, 55, 1958, 56, 1957, 57, 1956, 58, 1955, 59, 1954, 60, 1953, 61, 1952, 63, 1950, 62, 1951, 64, 1949, 65, 1948, 67, 1946, 66, 1947, 68, 1945, 69, 1944, 70, 1943, 71, 1942, 73, 1940, 72, 1941, 74, 1939, 76, 1937, 78, 1935, 79, 1934, 84, 1929, 88, 1925, 90, 1923, 92, 1921, 94, 1919, 95, 1918, 97, 1916, 100, 1913, 107, 1906, 108, 1905, 93, 1920, 81, 1932, 102, 1911, 77, 1936, 80, 1933, 75, 1938, 82, 1931, 101, 1912, 103, 1910, 85, 1928, 98, 1915, 106, 1907, 83, 1930, 87, 1926, 89, 1924, 91, 1922, 96, 1917, 86, 1927, 112, 1901, 113, 1900, 104, 1909, 105, 1908, 99, 1914, 111, 1902, 109, 1904, 110, 1903, '123', '2154'))"
            ]
          },
          "metadata": {},
          "execution_count": 7
        }
      ]
    },
    {
      "cell_type": "markdown",
      "source": [
        "visualize the graph"
      ],
      "metadata": {
        "id": "xn482_K_Se5V"
      }
    },
    {
      "cell_type": "code",
      "source": [
        "import matplotlib.pyplot as plt\n",
        "%matplotlib inline"
      ],
      "metadata": {
        "id": "oE_POWnMSkaF"
      },
      "execution_count": null,
      "outputs": []
    },
    {
      "cell_type": "code",
      "source": [
        "#G = nx.Graph()\n",
        "#G = nx.path_graph(4, create_using=nx.DiGraph)\n",
        "G= nx.Graph(fb_graph)\n",
        "\n",
        "#nx.graph"
      ],
      "metadata": {
        "id": "Ux1K_yL-TWC9"
      },
      "execution_count": null,
      "outputs": []
    },
    {
      "cell_type": "code",
      "source": [
        "import matplotlib.pyplot as plt"
      ],
      "metadata": {
        "id": "lDcEwqc7Tk29"
      },
      "execution_count": null,
      "outputs": []
    },
    {
      "cell_type": "code",
      "source": [
        "!pip install scipy"
      ],
      "metadata": {
        "colab": {
          "base_uri": "https://localhost:8080/"
        },
        "id": "aAj8Jwu3Tr9t",
        "outputId": "0436efe9-4f1b-4716-b7ca-f79e3dc08838"
      },
      "execution_count": null,
      "outputs": [
        {
          "output_type": "stream",
          "name": "stdout",
          "text": [
            "Looking in indexes: https://pypi.org/simple, https://us-python.pkg.dev/colab-wheels/public/simple/\n",
            "Requirement already satisfied: scipy in /usr/local/lib/python3.8/dist-packages (1.7.3)\n",
            "Requirement already satisfied: numpy<1.23.0,>=1.16.5 in /usr/local/lib/python3.8/dist-packages (from scipy) (1.21.6)\n"
          ]
        }
      ]
    },
    {
      "cell_type": "code",
      "source": [
        "%pip install 'networkx<2.7'"
      ],
      "metadata": {
        "colab": {
          "base_uri": "https://localhost:8080/"
        },
        "id": "F2PLXSkZUbQc",
        "outputId": "5ec56886-d01a-4dc7-dd93-6115f960ae3a"
      },
      "execution_count": null,
      "outputs": [
        {
          "output_type": "stream",
          "name": "stdout",
          "text": [
            "Looking in indexes: https://pypi.org/simple, https://us-python.pkg.dev/colab-wheels/public/simple/\n",
            "Requirement already satisfied: networkx<2.7 in /usr/local/lib/python3.8/dist-packages (2.6.3)\n"
          ]
        }
      ]
    },
    {
      "cell_type": "code",
      "source": [
        "#display the facebook friends network\n",
        "nx.draw(fb_graph,with_labels=True)"
      ],
      "metadata": {
        "colab": {
          "base_uri": "https://localhost:8080/",
          "height": 319
        },
        "id": "y1fI6tWGUzJQ",
        "outputId": "4aae3816-6a7a-4f98-ca24-f4f7981b7095"
      },
      "execution_count": null,
      "outputs": [
        {
          "output_type": "display_data",
          "data": {
            "text/plain": [
              "<Figure size 432x288 with 1 Axes>"
            ],
            "image/png": "[encoded data removed]"
          },
          "metadata": {}
        }
      ]
    },
    {
      "cell_type": "code",
      "source": [
        "#degree of each node\n",
        "nx.degree(fb_graph)"
      ],
      "metadata": {
        "id": "dN81ETCTVGHT",
        "colab": {
          "base_uri": "https://localhost:8080/"
        },
        "outputId": "39b621f0-d4f0-4d91-c363-80b5d330359b"
      },
      "execution_count": null,
      "outputs": [
        {
          "output_type": "execute_result",
          "data": {
            "text/plain": [
              "DegreeView({14: 1, 1999: 1, 13: 1, 2000: 1, 15: 1, 1998: 1, 16: 1, 1997: 1, 17: 1, 1996: 1, 18: 1, 1995: 1, 19: 1, 1994: 1, 20: 1, 1993: 1, 21: 1, 1992: 1, 22: 1, 1991: 1, 23: 1, 1990: 1, 24: 1, 1989: 1, 25: 1, 1988: 1, 26: 1, 1987: 1, 27: 1, 1986: 1, 28: 1, 1985: 1, 29: 1, 1984: 1, 30: 1, 1983: 1, 31: 1, 1982: 1, 32: 1, 1981: 1, 33: 1, 1980: 1, 34: 1, 1979: 1, 35: 1, 1978: 1, 36: 1, 1977: 1, 37: 1, 1976: 1, 38: 1, 1975: 1, 39: 1, 1974: 1, 40: 1, 1973: 1, 41: 1, 1972: 1, 42: 1, 1971: 1, 43: 1, 1970: 1, 44: 1, 1969: 1, 45: 1, 1968: 1, 46: 1, 1967: 1, 47: 1, 1966: 1, 48: 1, 1965: 1, 50: 1, 1963: 1, 49: 1, 1964: 1, 51: 1, 1962: 1, 52: 1, 1961: 1, 53: 1, 1960: 1, 54: 1, 1959: 1, 55: 1, 1958: 1, 56: 1, 1957: 1, 57: 1, 1956: 1, 58: 1, 1955: 1, 59: 1, 1954: 1, 60: 1, 1953: 1, 61: 1, 1952: 1, 63: 1, 1950: 1, 62: 1, 1951: 1, 64: 1, 1949: 1, 65: 1, 1948: 1, 67: 1, 1946: 1, 66: 1, 1947: 1, 68: 1, 1945: 1, 69: 1, 1944: 1, 70: 1, 1943: 1, 71: 1, 1942: 1, 73: 1, 1940: 1, 72: 1, 1941: 1, 74: 1, 1939: 1, 76: 1, 1937: 1, 78: 1, 1935: 1, 79: 1, 1934: 1, 84: 1, 1929: 1, 88: 1, 1925: 1, 90: 1, 1923: 1, 92: 1, 1921: 1, 94: 1, 1919: 1, 95: 1, 1918: 1, 97: 1, 1916: 1, 100: 1, 1913: 1, 107: 1, 1906: 1, 108: 1, 1905: 1, 93: 1, 1920: 1, 81: 1, 1932: 1, 102: 1, 1911: 1, 77: 1, 1936: 1, 80: 1, 1933: 1, 75: 1, 1938: 1, 82: 1, 1931: 1, 101: 1, 1912: 1, 103: 1, 1910: 1, 85: 1, 1928: 1, 98: 1, 1915: 1, 106: 1, 1907: 1, 83: 1, 1930: 1, 87: 1, 1926: 1, 89: 1, 1924: 1, 91: 1, 1922: 1, 96: 1, 1917: 1, 86: 1, 1927: 1, 112: 1, 1901: 1, 113: 1, 1900: 1, 104: 1, 1909: 1, 105: 1, 1908: 1, 99: 1, 1914: 1, 111: 1, 1902: 1, 109: 1, 1904: 1, 110: 1, 1903: 1, '123': 1, '2154': 1})"
            ]
          },
          "metadata": {},
          "execution_count": 14
        }
      ]
    },
    {
      "cell_type": "code",
      "source": [
        "nx.degree(fb_graph,1999)"
      ],
      "metadata": {
        "id": "fTUKm4T7VQHb",
        "colab": {
          "base_uri": "https://localhost:8080/"
        },
        "outputId": "4d34a6ea-04f0-4a4b-fb0a-fffaf0e52cb8"
      },
      "execution_count": null,
      "outputs": [
        {
          "output_type": "execute_result",
          "data": {
            "text/plain": [
              "1"
            ]
          },
          "metadata": {},
          "execution_count": 15
        }
      ]
    },
    {
      "cell_type": "code",
      "source": [
        "#degree centrality\n",
        "nx.degree_centrality(fb_graph)"
      ],
      "metadata": {
        "id": "266PKBreVZMj",
        "colab": {
          "base_uri": "https://localhost:8080/"
        },
        "outputId": "4a06ffec-7748-472f-c8bf-6c43f2897055"
      },
      "execution_count": null,
      "outputs": [
        {
          "output_type": "execute_result",
          "data": {
            "text/plain": [
              "{14: 0.0049261083743842365,\n",
              " 1999: 0.0049261083743842365,\n",
              " 13: 0.0049261083743842365,\n",
              " 2000: 0.0049261083743842365,\n",
              " 15: 0.0049261083743842365,\n",
              " 1998: 0.0049261083743842365,\n",
              " 16: 0.0049261083743842365,\n",
              " 1997: 0.0049261083743842365,\n",
              " 17: 0.0049261083743842365,\n",
              " 1996: 0.0049261083743842365,\n",
              " 18: 0.0049261083743842365,\n",
              " 1995: 0.0049261083743842365,\n",
              " 19: 0.0049261083743842365,\n",
              " 1994: 0.0049261083743842365,\n",
              " 20: 0.0049261083743842365,\n",
              " 1993: 0.0049261083743842365,\n",
              " 21: 0.0049261083743842365,\n",
              " 1992: 0.0049261083743842365,\n",
              " 22: 0.0049261083743842365,\n",
              " 1991: 0.0049261083743842365,\n",
              " 23: 0.0049261083743842365,\n",
              " 1990: 0.0049261083743842365,\n",
              " 24: 0.0049261083743842365,\n",
              " 1989: 0.0049261083743842365,\n",
              " 25: 0.0049261083743842365,\n",
              " 1988: 0.0049261083743842365,\n",
              " 26: 0.0049261083743842365,\n",
              " 1987: 0.0049261083743842365,\n",
              " 27: 0.0049261083743842365,\n",
              " 1986: 0.0049261083743842365,\n",
              " 28: 0.0049261083743842365,\n",
              " 1985: 0.0049261083743842365,\n",
              " 29: 0.0049261083743842365,\n",
              " 1984: 0.0049261083743842365,\n",
              " 30: 0.0049261083743842365,\n",
              " 1983: 0.0049261083743842365,\n",
              " 31: 0.0049261083743842365,\n",
              " 1982: 0.0049261083743842365,\n",
              " 32: 0.0049261083743842365,\n",
              " 1981: 0.0049261083743842365,\n",
              " 33: 0.0049261083743842365,\n",
              " 1980: 0.0049261083743842365,\n",
              " 34: 0.0049261083743842365,\n",
              " 1979: 0.0049261083743842365,\n",
              " 35: 0.0049261083743842365,\n",
              " 1978: 0.0049261083743842365,\n",
              " 36: 0.0049261083743842365,\n",
              " 1977: 0.0049261083743842365,\n",
              " 37: 0.0049261083743842365,\n",
              " 1976: 0.0049261083743842365,\n",
              " 38: 0.0049261083743842365,\n",
              " 1975: 0.0049261083743842365,\n",
              " 39: 0.0049261083743842365,\n",
              " 1974: 0.0049261083743842365,\n",
              " 40: 0.0049261083743842365,\n",
              " 1973: 0.0049261083743842365,\n",
              " 41: 0.0049261083743842365,\n",
              " 1972: 0.0049261083743842365,\n",
              " 42: 0.0049261083743842365,\n",
              " 1971: 0.0049261083743842365,\n",
              " 43: 0.0049261083743842365,\n",
              " 1970: 0.0049261083743842365,\n",
              " 44: 0.0049261083743842365,\n",
              " 1969: 0.0049261083743842365,\n",
              " 45: 0.0049261083743842365,\n",
              " 1968: 0.0049261083743842365,\n",
              " 46: 0.0049261083743842365,\n",
              " 1967: 0.0049261083743842365,\n",
              " 47: 0.0049261083743842365,\n",
              " 1966: 0.0049261083743842365,\n",
              " 48: 0.0049261083743842365,\n",
              " 1965: 0.0049261083743842365,\n",
              " 50: 0.0049261083743842365,\n",
              " 1963: 0.0049261083743842365,\n",
              " 49: 0.0049261083743842365,\n",
              " 1964: 0.0049261083743842365,\n",
              " 51: 0.0049261083743842365,\n",
              " 1962: 0.0049261083743842365,\n",
              " 52: 0.0049261083743842365,\n",
              " 1961: 0.0049261083743842365,\n",
              " 53: 0.0049261083743842365,\n",
              " 1960: 0.0049261083743842365,\n",
              " 54: 0.0049261083743842365,\n",
              " 1959: 0.0049261083743842365,\n",
              " 55: 0.0049261083743842365,\n",
              " 1958: 0.0049261083743842365,\n",
              " 56: 0.0049261083743842365,\n",
              " 1957: 0.0049261083743842365,\n",
              " 57: 0.0049261083743842365,\n",
              " 1956: 0.0049261083743842365,\n",
              " 58: 0.0049261083743842365,\n",
              " 1955: 0.0049261083743842365,\n",
              " 59: 0.0049261083743842365,\n",
              " 1954: 0.0049261083743842365,\n",
              " 60: 0.0049261083743842365,\n",
              " 1953: 0.0049261083743842365,\n",
              " 61: 0.0049261083743842365,\n",
              " 1952: 0.0049261083743842365,\n",
              " 63: 0.0049261083743842365,\n",
              " 1950: 0.0049261083743842365,\n",
              " 62: 0.0049261083743842365,\n",
              " 1951: 0.0049261083743842365,\n",
              " 64: 0.0049261083743842365,\n",
              " 1949: 0.0049261083743842365,\n",
              " 65: 0.0049261083743842365,\n",
              " 1948: 0.0049261083743842365,\n",
              " 67: 0.0049261083743842365,\n",
              " 1946: 0.0049261083743842365,\n",
              " 66: 0.0049261083743842365,\n",
              " 1947: 0.0049261083743842365,\n",
              " 68: 0.0049261083743842365,\n",
              " 1945: 0.0049261083743842365,\n",
              " 69: 0.0049261083743842365,\n",
              " 1944: 0.0049261083743842365,\n",
              " 70: 0.0049261083743842365,\n",
              " 1943: 0.0049261083743842365,\n",
              " 71: 0.0049261083743842365,\n",
              " 1942: 0.0049261083743842365,\n",
              " 73: 0.0049261083743842365,\n",
              " 1940: 0.0049261083743842365,\n",
              " 72: 0.0049261083743842365,\n",
              " 1941: 0.0049261083743842365,\n",
              " 74: 0.0049261083743842365,\n",
              " 1939: 0.0049261083743842365,\n",
              " 76: 0.0049261083743842365,\n",
              " 1937: 0.0049261083743842365,\n",
              " 78: 0.0049261083743842365,\n",
              " 1935: 0.0049261083743842365,\n",
              " 79: 0.0049261083743842365,\n",
              " 1934: 0.0049261083743842365,\n",
              " 84: 0.0049261083743842365,\n",
              " 1929: 0.0049261083743842365,\n",
              " 88: 0.0049261083743842365,\n",
              " 1925: 0.0049261083743842365,\n",
              " 90: 0.0049261083743842365,\n",
              " 1923: 0.0049261083743842365,\n",
              " 92: 0.0049261083743842365,\n",
              " 1921: 0.0049261083743842365,\n",
              " 94: 0.0049261083743842365,\n",
              " 1919: 0.0049261083743842365,\n",
              " 95: 0.0049261083743842365,\n",
              " 1918: 0.0049261083743842365,\n",
              " 97: 0.0049261083743842365,\n",
              " 1916: 0.0049261083743842365,\n",
              " 100: 0.0049261083743842365,\n",
              " 1913: 0.0049261083743842365,\n",
              " 107: 0.0049261083743842365,\n",
              " 1906: 0.0049261083743842365,\n",
              " 108: 0.0049261083743842365,\n",
              " 1905: 0.0049261083743842365,\n",
              " 93: 0.0049261083743842365,\n",
              " 1920: 0.0049261083743842365,\n",
              " 81: 0.0049261083743842365,\n",
              " 1932: 0.0049261083743842365,\n",
              " 102: 0.0049261083743842365,\n",
              " 1911: 0.0049261083743842365,\n",
              " 77: 0.0049261083743842365,\n",
              " 1936: 0.0049261083743842365,\n",
              " 80: 0.0049261083743842365,\n",
              " 1933: 0.0049261083743842365,\n",
              " 75: 0.0049261083743842365,\n",
              " 1938: 0.0049261083743842365,\n",
              " 82: 0.0049261083743842365,\n",
              " 1931: 0.0049261083743842365,\n",
              " 101: 0.0049261083743842365,\n",
              " 1912: 0.0049261083743842365,\n",
              " 103: 0.0049261083743842365,\n",
              " 1910: 0.0049261083743842365,\n",
              " 85: 0.0049261083743842365,\n",
              " 1928: 0.0049261083743842365,\n",
              " 98: 0.0049261083743842365,\n",
              " 1915: 0.0049261083743842365,\n",
              " 106: 0.0049261083743842365,\n",
              " 1907: 0.0049261083743842365,\n",
              " 83: 0.0049261083743842365,\n",
              " 1930: 0.0049261083743842365,\n",
              " 87: 0.0049261083743842365,\n",
              " 1926: 0.0049261083743842365,\n",
              " 89: 0.0049261083743842365,\n",
              " 1924: 0.0049261083743842365,\n",
              " 91: 0.0049261083743842365,\n",
              " 1922: 0.0049261083743842365,\n",
              " 96: 0.0049261083743842365,\n",
              " 1917: 0.0049261083743842365,\n",
              " 86: 0.0049261083743842365,\n",
              " 1927: 0.0049261083743842365,\n",
              " 112: 0.0049261083743842365,\n",
              " 1901: 0.0049261083743842365,\n",
              " 113: 0.0049261083743842365,\n",
              " 1900: 0.0049261083743842365,\n",
              " 104: 0.0049261083743842365,\n",
              " 1909: 0.0049261083743842365,\n",
              " 105: 0.0049261083743842365,\n",
              " 1908: 0.0049261083743842365,\n",
              " 99: 0.0049261083743842365,\n",
              " 1914: 0.0049261083743842365,\n",
              " 111: 0.0049261083743842365,\n",
              " 1902: 0.0049261083743842365,\n",
              " 109: 0.0049261083743842365,\n",
              " 1904: 0.0049261083743842365,\n",
              " 110: 0.0049261083743842365,\n",
              " 1903: 0.0049261083743842365,\n",
              " '123': 0.0049261083743842365,\n",
              " '2154': 0.0049261083743842365}"
            ]
          },
          "metadata": {},
          "execution_count": 16
        }
      ]
    },
    {
      "cell_type": "code",
      "source": [
        "sorted(nx.degree_centrality(fb_graph).values())\n",
        "m_influential=nx.degree_centrality(G)\n",
        "for w in sorted(m_influential,key=m_influential.get,reverse=True):\n",
        "  print(w,m_influential[w])"
      ],
      "metadata": {
        "id": "mcw914NCVjYL",
        "colab": {
          "base_uri": "https://localhost:8080/"
        },
        "outputId": "4ff34d02-0286-40f9-d859-106074071022"
      },
      "execution_count": null,
      "outputs": [
        {
          "output_type": "stream",
          "name": "stdout",
          "text": [
            "14 0.0049261083743842365\n",
            "1999 0.0049261083743842365\n",
            "13 0.0049261083743842365\n",
            "2000 0.0049261083743842365\n",
            "15 0.0049261083743842365\n",
            "1998 0.0049261083743842365\n",
            "16 0.0049261083743842365\n",
            "1997 0.0049261083743842365\n",
            "17 0.0049261083743842365\n",
            "1996 0.0049261083743842365\n",
            "18 0.0049261083743842365\n",
            "1995 0.0049261083743842365\n",
            "19 0.0049261083743842365\n",
            "1994 0.0049261083743842365\n",
            "20 0.0049261083743842365\n",
            "1993 0.0049261083743842365\n",
            "21 0.0049261083743842365\n",
            "1992 0.0049261083743842365\n",
            "22 0.0049261083743842365\n",
            "1991 0.0049261083743842365\n",
            "23 0.0049261083743842365\n",
            "1990 0.0049261083743842365\n",
            "24 0.0049261083743842365\n",
            "1989 0.0049261083743842365\n",
            "25 0.0049261083743842365\n",
            "1988 0.0049261083743842365\n",
            "26 0.0049261083743842365\n",
            "1987 0.0049261083743842365\n",
            "27 0.0049261083743842365\n",
            "1986 0.0049261083743842365\n",
            "28 0.0049261083743842365\n",
            "1985 0.0049261083743842365\n",
            "29 0.0049261083743842365\n",
            "1984 0.0049261083743842365\n",
            "30 0.0049261083743842365\n",
            "1983 0.0049261083743842365\n",
            "31 0.0049261083743842365\n",
            "1982 0.0049261083743842365\n",
            "32 0.0049261083743842365\n",
            "1981 0.0049261083743842365\n",
            "33 0.0049261083743842365\n",
            "1980 0.0049261083743842365\n",
            "34 0.0049261083743842365\n",
            "1979 0.0049261083743842365\n",
            "35 0.0049261083743842365\n",
            "1978 0.0049261083743842365\n",
            "36 0.0049261083743842365\n",
            "1977 0.0049261083743842365\n",
            "37 0.0049261083743842365\n",
            "1976 0.0049261083743842365\n",
            "38 0.0049261083743842365\n",
            "1975 0.0049261083743842365\n",
            "39 0.0049261083743842365\n",
            "1974 0.0049261083743842365\n",
            "40 0.0049261083743842365\n",
            "1973 0.0049261083743842365\n",
            "41 0.0049261083743842365\n",
            "1972 0.0049261083743842365\n",
            "42 0.0049261083743842365\n",
            "1971 0.0049261083743842365\n",
            "43 0.0049261083743842365\n",
            "1970 0.0049261083743842365\n",
            "44 0.0049261083743842365\n",
            "1969 0.0049261083743842365\n",
            "45 0.0049261083743842365\n",
            "1968 0.0049261083743842365\n",
            "46 0.0049261083743842365\n",
            "1967 0.0049261083743842365\n",
            "47 0.0049261083743842365\n",
            "1966 0.0049261083743842365\n",
            "48 0.0049261083743842365\n",
            "1965 0.0049261083743842365\n",
            "50 0.0049261083743842365\n",
            "1963 0.0049261083743842365\n",
            "49 0.0049261083743842365\n",
            "1964 0.0049261083743842365\n",
            "51 0.0049261083743842365\n",
            "1962 0.0049261083743842365\n",
            "52 0.0049261083743842365\n",
            "1961 0.0049261083743842365\n",
            "53 0.0049261083743842365\n",
            "1960 0.0049261083743842365\n",
            "54 0.0049261083743842365\n",
            "1959 0.0049261083743842365\n",
            "55 0.0049261083743842365\n",
            "1958 0.0049261083743842365\n",
            "56 0.0049261083743842365\n",
            "1957 0.0049261083743842365\n",
            "57 0.0049261083743842365\n",
            "1956 0.0049261083743842365\n",
            "58 0.0049261083743842365\n",
            "1955 0.0049261083743842365\n",
            "59 0.0049261083743842365\n",
            "1954 0.0049261083743842365\n",
            "60 0.0049261083743842365\n",
            "1953 0.0049261083743842365\n",
            "61 0.0049261083743842365\n",
            "1952 0.0049261083743842365\n",
            "63 0.0049261083743842365\n",
            "1950 0.0049261083743842365\n",
            "62 0.0049261083743842365\n",
            "1951 0.0049261083743842365\n",
            "64 0.0049261083743842365\n",
            "1949 0.0049261083743842365\n",
            "65 0.0049261083743842365\n",
            "1948 0.0049261083743842365\n",
            "67 0.0049261083743842365\n",
            "1946 0.0049261083743842365\n",
            "66 0.0049261083743842365\n",
            "1947 0.0049261083743842365\n",
            "68 0.0049261083743842365\n",
            "1945 0.0049261083743842365\n",
            "69 0.0049261083743842365\n",
            "1944 0.0049261083743842365\n",
            "70 0.0049261083743842365\n",
            "1943 0.0049261083743842365\n",
            "71 0.0049261083743842365\n",
            "1942 0.0049261083743842365\n",
            "73 0.0049261083743842365\n",
            "1940 0.0049261083743842365\n",
            "72 0.0049261083743842365\n",
            "1941 0.0049261083743842365\n",
            "74 0.0049261083743842365\n",
            "1939 0.0049261083743842365\n",
            "76 0.0049261083743842365\n",
            "1937 0.0049261083743842365\n",
            "78 0.0049261083743842365\n",
            "1935 0.0049261083743842365\n",
            "79 0.0049261083743842365\n",
            "1934 0.0049261083743842365\n",
            "84 0.0049261083743842365\n",
            "1929 0.0049261083743842365\n",
            "88 0.0049261083743842365\n",
            "1925 0.0049261083743842365\n",
            "90 0.0049261083743842365\n",
            "1923 0.0049261083743842365\n",
            "92 0.0049261083743842365\n",
            "1921 0.0049261083743842365\n",
            "94 0.0049261083743842365\n",
            "1919 0.0049261083743842365\n",
            "95 0.0049261083743842365\n",
            "1918 0.0049261083743842365\n",
            "97 0.0049261083743842365\n",
            "1916 0.0049261083743842365\n",
            "100 0.0049261083743842365\n",
            "1913 0.0049261083743842365\n",
            "107 0.0049261083743842365\n",
            "1906 0.0049261083743842365\n",
            "108 0.0049261083743842365\n",
            "1905 0.0049261083743842365\n",
            "93 0.0049261083743842365\n",
            "1920 0.0049261083743842365\n",
            "81 0.0049261083743842365\n",
            "1932 0.0049261083743842365\n",
            "102 0.0049261083743842365\n",
            "1911 0.0049261083743842365\n",
            "77 0.0049261083743842365\n",
            "1936 0.0049261083743842365\n",
            "80 0.0049261083743842365\n",
            "1933 0.0049261083743842365\n",
            "75 0.0049261083743842365\n",
            "1938 0.0049261083743842365\n",
            "82 0.0049261083743842365\n",
            "1931 0.0049261083743842365\n",
            "101 0.0049261083743842365\n",
            "1912 0.0049261083743842365\n",
            "103 0.0049261083743842365\n",
            "1910 0.0049261083743842365\n",
            "85 0.0049261083743842365\n",
            "1928 0.0049261083743842365\n",
            "98 0.0049261083743842365\n",
            "1915 0.0049261083743842365\n",
            "106 0.0049261083743842365\n",
            "1907 0.0049261083743842365\n",
            "83 0.0049261083743842365\n",
            "1930 0.0049261083743842365\n",
            "87 0.0049261083743842365\n",
            "1926 0.0049261083743842365\n",
            "89 0.0049261083743842365\n",
            "1924 0.0049261083743842365\n",
            "91 0.0049261083743842365\n",
            "1922 0.0049261083743842365\n",
            "96 0.0049261083743842365\n",
            "1917 0.0049261083743842365\n",
            "86 0.0049261083743842365\n",
            "1927 0.0049261083743842365\n",
            "112 0.0049261083743842365\n",
            "1901 0.0049261083743842365\n",
            "113 0.0049261083743842365\n",
            "1900 0.0049261083743842365\n",
            "104 0.0049261083743842365\n",
            "1909 0.0049261083743842365\n",
            "105 0.0049261083743842365\n",
            "1908 0.0049261083743842365\n",
            "99 0.0049261083743842365\n",
            "1914 0.0049261083743842365\n",
            "111 0.0049261083743842365\n",
            "1902 0.0049261083743842365\n",
            "109 0.0049261083743842365\n",
            "1904 0.0049261083743842365\n",
            "110 0.0049261083743842365\n",
            "1903 0.0049261083743842365\n",
            "123 0.0049261083743842365\n",
            "2154 0.0049261083743842365\n"
          ]
        }
      ]
    },
    {
      "cell_type": "markdown",
      "source": [
        "# New Section"
      ],
      "metadata": {
        "id": "TpBpHyeVVeO5"
      }
    },
    {
      "cell_type": "code",
      "source": [
        "pos=nx.spring_layout(G)\n",
        "betCent=nx.betweenness_centrality(G,normalized=True,endpoints=True)\n",
        "node_color=[20000.0*G.degree(v)for v in G]\n",
        "node_size=[v*10000 for v in betCent.values()]\n",
        "plt.figure(figsize=(20,20))\n",
        "nx.draw_networkx(G,pos=pos,with_labels=False,node_color=node_color,node_size=node_size)\n",
        "sorted(betCent,key=betCent.get,reverse=True)[:5]\n"
      ],
      "metadata": {
        "id": "kwVS4YUxY0x-",
        "colab": {
          "base_uri": "https://localhost:8080/",
          "height": 1135
        },
        "outputId": "3de60547-781d-4a5a-f77d-97c6c82d6571"
      },
      "execution_count": null,
      "outputs": [
        {
          "output_type": "execute_result",
          "data": {
            "text/plain": [
              "[14, 1999, 13, 2000, 15]"
            ]
          },
          "metadata": {},
          "execution_count": 18
        },
        {
          "output_type": "display_data",
          "data": {
            "text/plain": [
              "<Figure size 1440x1440 with 1 Axes>"
            ],
            "image/png": "[encoded data removed]"
          },
          "metadata": {}
        }
      ]
    },
    {
      "cell_type": "code",
      "source": [
        "#closeness centrality\n",
        "closeness_centrality=nx.centrality.closeness_centrality(G)\n",
        "(sorted(closeness_centrality.items(),key=lambda item:item[1],reverse=True))[:8]"
      ],
      "metadata": {
        "id": "Ku3n8rLXbJ_7",
        "colab": {
          "base_uri": "https://localhost:8080/"
        },
        "outputId": "d8901337-d19d-4ebe-875c-ff25b2dd17e6"
      },
      "execution_count": null,
      "outputs": [
        {
          "output_type": "execute_result",
          "data": {
            "text/plain": [
              "[(14, 0.0049261083743842365),\n",
              " (1999, 0.0049261083743842365),\n",
              " (13, 0.0049261083743842365),\n",
              " (2000, 0.0049261083743842365),\n",
              " (15, 0.0049261083743842365),\n",
              " (1998, 0.0049261083743842365),\n",
              " (16, 0.0049261083743842365),\n",
              " (1997, 0.0049261083743842365)]"
            ]
          },
          "metadata": {},
          "execution_count": 19
        }
      ]
    },
    {
      "cell_type": "code",
      "source": [
        "node_size=[v*50 for v in closeness_centrality.values()]\n",
        "plt.figure(figsize=(15,8))\n",
        "nx.draw_networkx(G,pos=pos,node_size=node_size,with_labels=False,width=0.15)\n",
        "plt.axis(\"off\")"
      ],
      "metadata": {
        "id": "NSn-RgnmcCMD",
        "colab": {
          "base_uri": "https://localhost:8080/",
          "height": 535
        },
        "outputId": "79dcc984-359e-447f-e85f-a9d5341f90df"
      },
      "execution_count": null,
      "outputs": [
        {
          "output_type": "execute_result",
          "data": {
            "text/plain": [
              "(-1.1874817849242896,\n",
              " 1.146655357056175,\n",
              " -1.1650198880794402,\n",
              " 1.2057258717179558)"
            ]
          },
          "metadata": {},
          "execution_count": 20
        },
        {
          "output_type": "display_data",
          "data": {
            "text/plain": [
              "<Figure size 1080x576 with 1 Axes>"
            ],
            "image/png": "[encoded data removed]"
          },
          "metadata": {}
        }
      ]
    },
    {
      "cell_type": "code",
      "source": [
        "#bridges\n",
        "nx.has_bridges(G)"
      ],
      "metadata": {
        "id": "HFCjedXnVf4A",
        "colab": {
          "base_uri": "https://localhost:8080/"
        },
        "outputId": "e4309196-c425-4524-ce2d-7234e6e13925"
      },
      "execution_count": null,
      "outputs": [
        {
          "output_type": "execute_result",
          "data": {
            "text/plain": [
              "True"
            ]
          },
          "metadata": {},
          "execution_count": 21
        }
      ]
    },
    {
      "cell_type": "code",
      "source": [
        "bridges=list(nx.bridges(G))\n",
        "len(bridges)"
      ],
      "metadata": {
        "id": "E3gCN96eVsYN",
        "colab": {
          "base_uri": "https://localhost:8080/"
        },
        "outputId": "73fdd721-d86b-493a-c0bf-c662d561de5a"
      },
      "execution_count": null,
      "outputs": [
        {
          "output_type": "execute_result",
          "data": {
            "text/plain": [
              "102"
            ]
          },
          "metadata": {},
          "execution_count": 22
        }
      ]
    },
    {
      "cell_type": "code",
      "source": [
        "local_bridges=list(nx.local_bridges(G,with_span=False))\n",
        "len(bridges)"
      ],
      "metadata": {
        "id": "Grp1KoypWAfx",
        "colab": {
          "base_uri": "https://localhost:8080/"
        },
        "outputId": "64d6ecdb-a255-4116-f0ef-955ca8513211"
      },
      "execution_count": null,
      "outputs": [
        {
          "output_type": "execute_result",
          "data": {
            "text/plain": [
              "102"
            ]
          },
          "metadata": {},
          "execution_count": 23
        }
      ]
    },
    {
      "cell_type": "code",
      "source": [
        "plt.figure(figsize=(15,5))\n",
        "nx.draw_networkx(G,pos=pos,node_size=10,with_labels=False,width=0.15)\n",
        "nx.draw_networkx_edges(G,pos,edgelist=local_bridges,width=0.5,edge_color=\"green\")\n",
        "nx.draw_networkx_edges(G,pos,edgelist=local_bridges,width=0.5,edge_color=\"blue\")\n",
        "plt.axis(\"off\")"
      ],
      "metadata": {
        "id": "RtlD5F23WUzX",
        "colab": {
          "base_uri": "https://localhost:8080/",
          "height": 372
        },
        "outputId": "23e34d58-d3ac-4b13-b2ad-14b188fb6f0a"
      },
      "execution_count": null,
      "outputs": [
        {
          "output_type": "execute_result",
          "data": {
            "text/plain": [
              "(-1.1874817849242896,\n",
              " 1.146655357056175,\n",
              " -1.1650198880794402,\n",
              " 1.2057258717179558)"
            ]
          },
          "metadata": {},
          "execution_count": 24
        },
        {
          "output_type": "display_data",
          "data": {
            "text/plain": [
              "<Figure size 1080x360 with 1 Axes>"
            ],
            "image/png": "[encoded data removed]"
          },
          "metadata": {}
        }
      ]
    },
    {
      "cell_type": "code",
      "source": [
        "#clustering\n",
        "nx.average_clustering(G)"
      ],
      "metadata": {
        "id": "pGEnuRaGcqkT",
        "colab": {
          "base_uri": "https://localhost:8080/"
        },
        "outputId": "8d3d7ce9-7863-47b3-e85d-1400f21430dc"
      },
      "execution_count": null,
      "outputs": [
        {
          "output_type": "execute_result",
          "data": {
            "text/plain": [
              "0.0"
            ]
          },
          "metadata": {},
          "execution_count": 25
        }
      ]
    }
  ]
}