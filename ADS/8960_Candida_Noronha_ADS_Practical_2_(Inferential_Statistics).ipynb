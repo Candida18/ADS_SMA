{
  "nbformat": 4,
  "nbformat_minor": 0,
  "metadata": {
    "colab": {
      "provenance": [],
      "include_colab_link": true
    },
    "kernelspec": {
      "name": "python3",
      "display_name": "Python 3"
    },
    "language_info": {
      "name": "python"
    }
  },
  "cells": [
    {
      "cell_type": "markdown",
      "metadata": {
        "id": "view-in-github",
        "colab_type": "text"
      },
      "source": [
        "<a href=\"https://colab.research.google.com/github/Candida18/ADS_SMA/blob/main/ADS/8960_Candida_Noronha_ADS_Practical_2_(Inferential_Statistics).ipynb\" target=\"_parent\"><img src=\"https://colab.research.google.com/assets/colab-badge.svg\" alt=\"Open In Colab\"/></a>"
      ]
    },
    {
      "cell_type": "markdown",
      "source": [
        "### <b>Name: Candida Noronha<br/>\n",
        "### <b>Class: BE COMPS B<br/>\n",
        "### <b>Roll No.: 8960\n",
        "### <b>Practical 2 - Inferential Statistics"
      ],
      "metadata": {
        "id": "cA-VB2AN3WUD"
      }
    },
    {
      "cell_type": "markdown",
      "source": [
        "**Z-Score**"
      ],
      "metadata": {
        "id": "XHctYvkSJJMK"
      }
    },
    {
      "cell_type": "markdown",
      "source": [
        "Computing z-score using defualt values"
      ],
      "metadata": {
        "id": "oALp1W7aKCi5"
      }
    },
    {
      "cell_type": "code",
      "execution_count": null,
      "metadata": {
        "id": "n3wFhk1aDo1Y",
        "colab": {
          "base_uri": "https://localhost:8080/"
        },
        "outputId": "a3c6766c-3ab7-4a0f-ecb1-8a79e8a2b143"
      },
      "outputs": [
        {
          "output_type": "execute_result",
          "data": {
            "text/plain": [
              "array([-0.08660476,  0.13662837, -0.81337952, -1.79269639, -0.35347081,\n",
              "        0.13905242,  1.62653867,  1.14393202])"
            ]
          },
          "metadata": {},
          "execution_count": 17
        }
      ],
      "source": [
        "import numpy as np\n",
        "import scipy.stats as stats\n",
        "\n",
        "a = np.array([0.8976,0.9989,0.5678,0.1234,0.7765,1,1.675,1.456])\n",
        "stats.zscore(a)"
      ]
    },
    {
      "cell_type": "markdown",
      "source": [
        "Computing z-score along specified axis using degrees of freedom"
      ],
      "metadata": {
        "id": "yhsOEBQKKJDq"
      }
    },
    {
      "cell_type": "code",
      "source": [
        "a = np.array([[0.1234,0.4567,0.7890,0.9876],\n",
        "             [0.6789,0.7890,0.9987,0.6657],\n",
        "             [0.2234,0.9987,0.3345,0.5567]])\n",
        "\n",
        "stats.zscore(a,axis=1,ddof=1)"
      ],
      "metadata": {
        "id": "LrmaNT5gEVlk",
        "colab": {
          "base_uri": "https://localhost:8080/"
        },
        "outputId": "a011dd63-f55d-44a2-8c31-795be6cb0bc0"
      },
      "execution_count": null,
      "outputs": [
        {
          "output_type": "execute_result",
          "data": {
            "text/plain": [
              "array([[-1.22576827, -0.3486311 ,  0.52587439,  1.04852498],\n",
              "       [-0.67641081,  0.03847117,  1.40005837, -0.76211873],\n",
              "       [-0.88942498,  1.37202025, -0.56536131,  0.08276604]])"
            ]
          },
          "metadata": {},
          "execution_count": 18
        }
      ]
    },
    {
      "cell_type": "markdown",
      "source": [
        "Computing z-score using nan_policy"
      ],
      "metadata": {
        "id": "tmo_dou6KZcV"
      }
    },
    {
      "cell_type": "code",
      "source": [
        "a = np.array([[0.1234,np.nan,0.7890,0.9876],\n",
        "             [0.6789,0.7890,0.9987,0.6657],\n",
        "             [np.nan,0.9987,0.3345,np.nan]])\n",
        "\n",
        "stats.zscore(a,axis=1) # default value of nan_policy is propagate, which returns nan \n"
      ],
      "metadata": {
        "id": "F0aI5tZeEVou",
        "colab": {
          "base_uri": "https://localhost:8080/"
        },
        "outputId": "9056c3d9-7825-4d33-80b8-09ec7d280bb4"
      },
      "execution_count": null,
      "outputs": [
        {
          "output_type": "execute_result",
          "data": {
            "text/plain": [
              "array([[        nan,         nan,         nan,         nan],\n",
              "       [-0.78105192,  0.04442268,  1.61664815, -0.88001891],\n",
              "       [        nan,         nan,         nan,         nan]])"
            ]
          },
          "metadata": {},
          "execution_count": 19
        }
      ]
    },
    {
      "cell_type": "markdown",
      "source": [
        "**Z-Test**"
      ],
      "metadata": {
        "id": "V6nJ3jcCKt5a"
      }
    },
    {
      "cell_type": "code",
      "source": [
        "import numpy as np\n",
        "import pandas as pd\n",
        "from numpy.random import randn\n",
        "from statsmodels.stats.weightstats import ztest"
      ],
      "metadata": {
        "id": "p8yS8folEVrh"
      },
      "execution_count": null,
      "outputs": []
    },
    {
      "cell_type": "code",
      "source": [
        "x1 = [20, 30, 40, 50, 10, 20]\n",
        "z = ztest(x1,value= 25) # where value is a mean value\n",
        "z\n",
        "# The first value from the above result is statistic value and the other value is pvalue. From the above output, we can understand that the pvalue of the taken data is 0.9 which is greater than the value of alpha which is 0.05. Hence we come to the output that Null Hypothesis is correct and it is accepted, which means that the given data and the assumed mean are approximately equal.\n"
      ],
      "metadata": {
        "id": "lq5A4IP7EVuE",
        "colab": {
          "base_uri": "https://localhost:8080/"
        },
        "outputId": "1724ffa6-b18c-451b-abd0-9b19e5d6f0d5"
      },
      "execution_count": null,
      "outputs": [
        {
          "output_type": "execute_result",
          "data": {
            "text/plain": [
              "(0.5547001962252289, 0.5790997419539189)"
            ]
          },
          "metadata": {},
          "execution_count": 21
        }
      ]
    },
    {
      "cell_type": "code",
      "source": [
        "x1 = [20, 30, 40, 50, 10, 20]\n",
        "x2 = [11, 12, 13, 14, 15, 16]\n",
        "\n",
        "z=ztest(x1, x2, value= 0, alternative = 'larger')\n",
        "z"
      ],
      "metadata": {
        "id": "KBi6eknaEVwu",
        "colab": {
          "base_uri": "https://localhost:8080/"
        },
        "outputId": "b6edce4c-1cf9-479f-81aa-d82be7295897"
      },
      "execution_count": null,
      "outputs": [
        {
          "output_type": "execute_result",
          "data": {
            "text/plain": [
              "(2.448717008689441, 0.007168301924196878)"
            ]
          },
          "metadata": {},
          "execution_count": 22
        }
      ]
    },
    {
      "cell_type": "markdown",
      "source": [
        "From the above output, we can understand that the Null Hypothesis is rejected and Alternate Hypothesis is accepted as the pvalue is less than the alpha value\n"
      ],
      "metadata": {
        "id": "OxrFm-ExLIrr"
      }
    },
    {
      "cell_type": "markdown",
      "source": [
        "**T-Test**"
      ],
      "metadata": {
        "id": "2P73NwcqLqpm"
      }
    },
    {
      "cell_type": "markdown",
      "source": [
        "**Independent t-Test**"
      ],
      "metadata": {
        "id": "2HS2UufYMePU"
      }
    },
    {
      "cell_type": "code",
      "source": [
        "import scipy.stats as stats\n",
        "\n",
        "a = np.array([5,6,7,8,2,3,4,5])\n",
        "b = np.array([12,13,14,15,16,2,3,4])\n",
        "\n",
        "stats.ttest_ind(a, b, equal_var=True) # Assuming that the 2 groups have equal variance"
      ],
      "metadata": {
        "colab": {
          "base_uri": "https://localhost:8080/"
        },
        "id": "BhwGgVvFL0oa",
        "outputId": "b411c61d-01a8-4827-83cf-09cbeddca58a"
      },
      "execution_count": null,
      "outputs": [
        {
          "output_type": "execute_result",
          "data": {
            "text/plain": [
              "Ttest_indResult(statistic=-2.2331335038240865, pvalue=0.042379219768910015)"
            ]
          },
          "metadata": {},
          "execution_count": 23
        }
      ]
    },
    {
      "cell_type": "code",
      "source": [
        "stats.ttest_ind(a, b, equal_var=False) # Assuming that the 2 groups doesn't have equal variance"
      ],
      "metadata": {
        "colab": {
          "base_uri": "https://localhost:8080/"
        },
        "id": "dxZIhGPUMBh5",
        "outputId": "981f3a88-4b2b-421e-9313-6f41d9353857"
      },
      "execution_count": null,
      "outputs": [
        {
          "output_type": "execute_result",
          "data": {
            "text/plain": [
              "Ttest_indResult(statistic=-2.2331335038240865, pvalue=0.05369587840008499)"
            ]
          },
          "metadata": {},
          "execution_count": 24
        }
      ]
    },
    {
      "cell_type": "markdown",
      "source": [
        "Understanding the result from the above test, assuming that the alpha value is 0.05, the both results assuming that the 2 groups have same variances and different variances, returns out pvalue which is less than the value of alpha. Hence the 2 bags or the 2 groups means are not supposed to be equal\n",
        "\n",
        "Using statsmodels\n",
        "statsmodels.stats.weightstats.ttest_ind(x1, x2)\n",
        "\n",
        "where, \n",
        "    x1 and x2 are two array groups\n",
        "\n",
        "Returns:\n",
        "    tstat : float\n",
        "    test statistic\n",
        "\n",
        "    pvalue : float\n",
        "    pvalue of the t-test\n",
        "\n",
        "    df : int or float\n",
        "    degrees of freedom used in the t-test"
      ],
      "metadata": {
        "id": "3RDFwCLzMvkS"
      }
    },
    {
      "cell_type": "code",
      "source": [
        "from statsmodels.stats.weightstats import ttest_ind\n",
        "\n",
        "a = np.array([12,14,16,4,5,11,12,11])\n",
        "b = np.array([12,13,14,15,16,2,3,4])\n",
        "\n",
        "ttest_ind(a,b)"
      ],
      "metadata": {
        "colab": {
          "base_uri": "https://localhost:8080/"
        },
        "id": "n0jGm06MMRMh",
        "outputId": "1c81fbc1-4731-443b-8017-f71f4a854aa9"
      },
      "execution_count": null,
      "outputs": [
        {
          "output_type": "execute_result",
          "data": {
            "text/plain": [
              "(0.2963188789948769, 0.7713367820262194, 14.0)"
            ]
          },
          "metadata": {},
          "execution_count": 25
        }
      ]
    },
    {
      "cell_type": "markdown",
      "source": [
        "**Paired T-test**"
      ],
      "metadata": {
        "id": "oWF33VwUMW-I"
      }
    },
    {
      "cell_type": "code",
      "source": [
        "import scipy.stats as stats\n",
        "\n",
        "a = np.array([12, 14, 16, 4, 5, 11, 12, 11])\n",
        "b = np.array([12, 13, 14, 15, 16, 2, 3, 4])\n",
        "\n",
        "stats.ttest_rel(a,b)"
      ],
      "metadata": {
        "colab": {
          "base_uri": "https://localhost:8080/"
        },
        "id": "7g6pbUGOMVr3",
        "outputId": "1d2323eb-4221-49c3-c722-925a5b76891b"
      },
      "execution_count": null,
      "outputs": [
        {
          "output_type": "execute_result",
          "data": {
            "text/plain": [
              "Ttest_relResult(statistic=0.2635521911161371, pvalue=0.7997147761519708)"
            ]
          },
          "metadata": {},
          "execution_count": 26
        }
      ]
    },
    {
      "cell_type": "markdown",
      "source": [
        "**F-Test**"
      ],
      "metadata": {
        "id": "HNZEb6s6EdNR"
      }
    },
    {
      "cell_type": "code",
      "source": [
        "import numpy as np\n",
        "import pandas as pd\n",
        "import scipy.stats as stats\n"
      ],
      "metadata": {
        "id": "oPShmtO4EV1K"
      },
      "execution_count": null,
      "outputs": []
    },
    {
      "cell_type": "code",
      "source": [
        "cities = [\"punjab\",\"delhi\",\"hyderabad\",\"bangalore\",\"mumbai\"]"
      ],
      "metadata": {
        "id": "KbRlBfCTE1ob"
      },
      "execution_count": null,
      "outputs": []
    },
    {
      "cell_type": "code",
      "source": [
        "people_of_spec_city = np.random.choice(a= cities, p = [0.05, 0.15 ,0.25, 0.05, 0.5], size=1000)\n",
        "# np.random.choice, returns some random values from the given value a, with the probabilities mentioned in p of size given\n",
        "\n",
        "people_of_spec_city"
      ],
      "metadata": {
        "id": "zFl-EVSlE1rX",
        "colab": {
          "base_uri": "https://localhost:8080/"
        },
        "outputId": "9cb11085-1786-480b-eb8a-388f4847c218"
      },
      "execution_count": null,
      "outputs": [
        {
          "output_type": "execute_result",
          "data": {
            "text/plain": [
              "array(['bangalore', 'hyderabad', 'hyderabad', 'delhi', 'hyderabad',\n",
              "       'mumbai', 'mumbai', 'mumbai', 'mumbai', 'mumbai', 'mumbai',\n",
              "       'delhi', 'mumbai', 'mumbai', 'mumbai', 'hyderabad', 'delhi',\n",
              "       'mumbai', 'mumbai', 'mumbai', 'mumbai', 'punjab', 'hyderabad',\n",
              "       'bangalore', 'mumbai', 'delhi', 'mumbai', 'hyderabad', 'hyderabad',\n",
              "       'hyderabad', 'mumbai', 'hyderabad', 'hyderabad', 'delhi', 'mumbai',\n",
              "       'delhi', 'delhi', 'hyderabad', 'mumbai', 'bangalore', 'mumbai',\n",
              "       'mumbai', 'hyderabad', 'mumbai', 'mumbai', 'mumbai', 'hyderabad',\n",
              "       'mumbai', 'hyderabad', 'mumbai', 'bangalore', 'bangalore',\n",
              "       'hyderabad', 'mumbai', 'mumbai', 'hyderabad', 'mumbai',\n",
              "       'hyderabad', 'delhi', 'mumbai', 'mumbai', 'hyderabad', 'mumbai',\n",
              "       'mumbai', 'delhi', 'punjab', 'mumbai', 'hyderabad', 'mumbai',\n",
              "       'hyderabad', 'mumbai', 'mumbai', 'mumbai', 'mumbai', 'hyderabad',\n",
              "       'hyderabad', 'bangalore', 'mumbai', 'mumbai', 'mumbai', 'mumbai',\n",
              "       'hyderabad', 'mumbai', 'mumbai', 'mumbai', 'hyderabad', 'mumbai',\n",
              "       'delhi', 'bangalore', 'mumbai', 'bangalore', 'punjab', 'mumbai',\n",
              "       'mumbai', 'hyderabad', 'mumbai', 'mumbai', 'delhi', 'mumbai',\n",
              "       'mumbai', 'mumbai', 'hyderabad', 'hyderabad', 'mumbai', 'mumbai',\n",
              "       'mumbai', 'mumbai', 'mumbai', 'delhi', 'hyderabad', 'delhi',\n",
              "       'delhi', 'hyderabad', 'mumbai', 'mumbai', 'delhi', 'mumbai',\n",
              "       'mumbai', 'bangalore', 'delhi', 'mumbai', 'hyderabad', 'mumbai',\n",
              "       'mumbai', 'bangalore', 'mumbai', 'hyderabad', 'punjab',\n",
              "       'hyderabad', 'punjab', 'hyderabad', 'mumbai', 'hyderabad', 'delhi',\n",
              "       'mumbai', 'punjab', 'delhi', 'delhi', 'mumbai', 'mumbai',\n",
              "       'hyderabad', 'delhi', 'mumbai', 'mumbai', 'hyderabad', 'mumbai',\n",
              "       'punjab', 'punjab', 'mumbai', 'hyderabad', 'hyderabad', 'delhi',\n",
              "       'hyderabad', 'delhi', 'hyderabad', 'mumbai', 'hyderabad', 'punjab',\n",
              "       'mumbai', 'mumbai', 'hyderabad', 'hyderabad', 'delhi', 'hyderabad',\n",
              "       'hyderabad', 'mumbai', 'hyderabad', 'delhi', 'mumbai', 'mumbai',\n",
              "       'hyderabad', 'bangalore', 'mumbai', 'mumbai', 'delhi', 'punjab',\n",
              "       'mumbai', 'mumbai', 'bangalore', 'hyderabad', 'mumbai', 'delhi',\n",
              "       'mumbai', 'delhi', 'mumbai', 'hyderabad', 'delhi', 'mumbai',\n",
              "       'hyderabad', 'bangalore', 'mumbai', 'mumbai', 'mumbai', 'mumbai',\n",
              "       'hyderabad', 'mumbai', 'mumbai', 'hyderabad', 'mumbai', 'mumbai',\n",
              "       'delhi', 'mumbai', 'mumbai', 'mumbai', 'mumbai', 'mumbai',\n",
              "       'punjab', 'hyderabad', 'mumbai', 'mumbai', 'mumbai', 'bangalore',\n",
              "       'mumbai', 'hyderabad', 'hyderabad', 'mumbai', 'hyderabad',\n",
              "       'mumbai', 'mumbai', 'mumbai', 'delhi', 'hyderabad', 'bangalore',\n",
              "       'hyderabad', 'bangalore', 'mumbai', 'mumbai', 'hyderabad',\n",
              "       'mumbai', 'mumbai', 'punjab', 'mumbai', 'hyderabad', 'mumbai',\n",
              "       'mumbai', 'punjab', 'mumbai', 'hyderabad', 'delhi', 'mumbai',\n",
              "       'mumbai', 'mumbai', 'mumbai', 'hyderabad', 'mumbai', 'hyderabad',\n",
              "       'hyderabad', 'mumbai', 'hyderabad', 'hyderabad', 'hyderabad',\n",
              "       'mumbai', 'mumbai', 'delhi', 'hyderabad', 'hyderabad', 'delhi',\n",
              "       'hyderabad', 'hyderabad', 'mumbai', 'hyderabad', 'mumbai',\n",
              "       'mumbai', 'hyderabad', 'bangalore', 'mumbai', 'hyderabad',\n",
              "       'hyderabad', 'hyderabad', 'delhi', 'punjab', 'punjab', 'mumbai',\n",
              "       'mumbai', 'mumbai', 'mumbai', 'mumbai', 'delhi', 'mumbai',\n",
              "       'hyderabad', 'hyderabad', 'punjab', 'mumbai', 'hyderabad',\n",
              "       'hyderabad', 'delhi', 'mumbai', 'mumbai', 'mumbai', 'mumbai',\n",
              "       'hyderabad', 'mumbai', 'delhi', 'mumbai', 'mumbai', 'hyderabad',\n",
              "       'mumbai', 'hyderabad', 'mumbai', 'mumbai', 'mumbai', 'mumbai',\n",
              "       'bangalore', 'hyderabad', 'hyderabad', 'hyderabad', 'delhi',\n",
              "       'bangalore', 'delhi', 'mumbai', 'mumbai', 'delhi', 'mumbai',\n",
              "       'delhi', 'delhi', 'hyderabad', 'mumbai', 'mumbai', 'delhi',\n",
              "       'bangalore', 'punjab', 'mumbai', 'mumbai', 'mumbai', 'mumbai',\n",
              "       'hyderabad', 'mumbai', 'mumbai', 'hyderabad', 'mumbai',\n",
              "       'hyderabad', 'mumbai', 'mumbai', 'mumbai', 'mumbai', 'hyderabad',\n",
              "       'hyderabad', 'mumbai', 'hyderabad', 'hyderabad', 'delhi',\n",
              "       'hyderabad', 'mumbai', 'mumbai', 'mumbai', 'mumbai', 'mumbai',\n",
              "       'mumbai', 'mumbai', 'mumbai', 'delhi', 'mumbai', 'mumbai',\n",
              "       'punjab', 'mumbai', 'mumbai', 'delhi', 'mumbai', 'mumbai',\n",
              "       'hyderabad', 'mumbai', 'mumbai', 'mumbai', 'punjab', 'mumbai',\n",
              "       'mumbai', 'bangalore', 'mumbai', 'mumbai', 'mumbai', 'mumbai',\n",
              "       'mumbai', 'delhi', 'mumbai', 'delhi', 'mumbai', 'mumbai', 'mumbai',\n",
              "       'bangalore', 'mumbai', 'mumbai', 'mumbai', 'mumbai', 'mumbai',\n",
              "       'hyderabad', 'mumbai', 'hyderabad', 'hyderabad', 'hyderabad',\n",
              "       'hyderabad', 'hyderabad', 'mumbai', 'hyderabad', 'mumbai',\n",
              "       'punjab', 'mumbai', 'mumbai', 'mumbai', 'delhi', 'mumbai',\n",
              "       'hyderabad', 'delhi', 'hyderabad', 'mumbai', 'mumbai', 'hyderabad',\n",
              "       'mumbai', 'punjab', 'mumbai', 'delhi', 'hyderabad', 'mumbai',\n",
              "       'delhi', 'delhi', 'mumbai', 'hyderabad', 'mumbai', 'hyderabad',\n",
              "       'mumbai', 'mumbai', 'delhi', 'hyderabad', 'hyderabad', 'mumbai',\n",
              "       'mumbai', 'mumbai', 'hyderabad', 'mumbai', 'mumbai', 'mumbai',\n",
              "       'mumbai', 'hyderabad', 'delhi', 'mumbai', 'bangalore', 'hyderabad',\n",
              "       'delhi', 'delhi', 'mumbai', 'mumbai', 'mumbai', 'delhi', 'mumbai',\n",
              "       'punjab', 'mumbai', 'delhi', 'hyderabad', 'mumbai', 'mumbai',\n",
              "       'bangalore', 'mumbai', 'delhi', 'mumbai', 'delhi', 'mumbai',\n",
              "       'mumbai', 'hyderabad', 'hyderabad', 'hyderabad', 'hyderabad',\n",
              "       'delhi', 'hyderabad', 'mumbai', 'mumbai', 'punjab', 'mumbai',\n",
              "       'hyderabad', 'mumbai', 'mumbai', 'hyderabad', 'hyderabad', 'delhi',\n",
              "       'mumbai', 'mumbai', 'hyderabad', 'hyderabad', 'mumbai', 'delhi',\n",
              "       'mumbai', 'mumbai', 'mumbai', 'hyderabad', 'punjab', 'mumbai',\n",
              "       'mumbai', 'mumbai', 'mumbai', 'mumbai', 'hyderabad', 'delhi',\n",
              "       'mumbai', 'mumbai', 'hyderabad', 'punjab', 'bangalore',\n",
              "       'hyderabad', 'hyderabad', 'bangalore', 'delhi', 'mumbai', 'delhi',\n",
              "       'hyderabad', 'mumbai', 'delhi', 'hyderabad', 'hyderabad', 'mumbai',\n",
              "       'bangalore', 'hyderabad', 'mumbai', 'bangalore', 'mumbai',\n",
              "       'mumbai', 'mumbai', 'hyderabad', 'mumbai', 'mumbai', 'mumbai',\n",
              "       'mumbai', 'mumbai', 'hyderabad', 'punjab', 'delhi', 'hyderabad',\n",
              "       'delhi', 'mumbai', 'hyderabad', 'delhi', 'mumbai', 'mumbai',\n",
              "       'hyderabad', 'delhi', 'hyderabad', 'mumbai', 'mumbai', 'hyderabad',\n",
              "       'delhi', 'hyderabad', 'mumbai', 'mumbai', 'delhi', 'hyderabad',\n",
              "       'hyderabad', 'mumbai', 'mumbai', 'mumbai', 'mumbai', 'hyderabad',\n",
              "       'mumbai', 'mumbai', 'hyderabad', 'mumbai', 'hyderabad',\n",
              "       'hyderabad', 'hyderabad', 'hyderabad', 'mumbai', 'mumbai', 'delhi',\n",
              "       'mumbai', 'mumbai', 'punjab', 'mumbai', 'mumbai', 'mumbai',\n",
              "       'hyderabad', 'bangalore', 'hyderabad', 'bangalore', 'hyderabad',\n",
              "       'mumbai', 'mumbai', 'mumbai', 'delhi', 'mumbai', 'hyderabad',\n",
              "       'mumbai', 'hyderabad', 'mumbai', 'mumbai', 'mumbai', 'hyderabad',\n",
              "       'mumbai', 'mumbai', 'mumbai', 'hyderabad', 'hyderabad', 'mumbai',\n",
              "       'mumbai', 'delhi', 'mumbai', 'delhi', 'mumbai', 'mumbai', 'mumbai',\n",
              "       'mumbai', 'hyderabad', 'delhi', 'delhi', 'mumbai', 'punjab',\n",
              "       'delhi', 'hyderabad', 'mumbai', 'hyderabad', 'mumbai', 'punjab',\n",
              "       'delhi', 'mumbai', 'bangalore', 'mumbai', 'bangalore', 'delhi',\n",
              "       'mumbai', 'hyderabad', 'mumbai', 'delhi', 'mumbai', 'mumbai',\n",
              "       'mumbai', 'hyderabad', 'bangalore', 'mumbai', 'mumbai',\n",
              "       'hyderabad', 'mumbai', 'delhi', 'hyderabad', 'bangalore', 'punjab',\n",
              "       'mumbai', 'mumbai', 'delhi', 'mumbai', 'hyderabad', 'hyderabad',\n",
              "       'mumbai', 'mumbai', 'mumbai', 'hyderabad', 'hyderabad',\n",
              "       'hyderabad', 'delhi', 'mumbai', 'hyderabad', 'bangalore', 'delhi',\n",
              "       'mumbai', 'mumbai', 'hyderabad', 'mumbai', 'mumbai', 'punjab',\n",
              "       'hyderabad', 'delhi', 'hyderabad', 'mumbai', 'hyderabad',\n",
              "       'hyderabad', 'mumbai', 'hyderabad', 'mumbai', 'mumbai', 'mumbai',\n",
              "       'hyderabad', 'mumbai', 'mumbai', 'punjab', 'delhi', 'mumbai',\n",
              "       'mumbai', 'mumbai', 'hyderabad', 'hyderabad', 'mumbai',\n",
              "       'hyderabad', 'mumbai', 'delhi', 'hyderabad', 'punjab', 'hyderabad',\n",
              "       'bangalore', 'mumbai', 'mumbai', 'delhi', 'delhi', 'mumbai',\n",
              "       'delhi', 'delhi', 'hyderabad', 'hyderabad', 'hyderabad', 'mumbai',\n",
              "       'hyderabad', 'delhi', 'mumbai', 'mumbai', 'delhi', 'hyderabad',\n",
              "       'mumbai', 'hyderabad', 'mumbai', 'mumbai', 'mumbai', 'mumbai',\n",
              "       'mumbai', 'mumbai', 'mumbai', 'delhi', 'mumbai', 'mumbai',\n",
              "       'hyderabad', 'mumbai', 'mumbai', 'hyderabad', 'mumbai', 'mumbai',\n",
              "       'hyderabad', 'delhi', 'mumbai', 'mumbai', 'hyderabad', 'hyderabad',\n",
              "       'delhi', 'punjab', 'hyderabad', 'hyderabad', 'delhi', 'delhi',\n",
              "       'mumbai', 'hyderabad', 'mumbai', 'mumbai', 'hyderabad', 'delhi',\n",
              "       'mumbai', 'hyderabad', 'mumbai', 'hyderabad', 'mumbai',\n",
              "       'hyderabad', 'delhi', 'mumbai', 'mumbai', 'hyderabad', 'hyderabad',\n",
              "       'mumbai', 'bangalore', 'hyderabad', 'hyderabad', 'mumbai', 'delhi',\n",
              "       'punjab', 'hyderabad', 'hyderabad', 'mumbai', 'delhi', 'mumbai',\n",
              "       'mumbai', 'mumbai', 'mumbai', 'punjab', 'delhi', 'mumbai',\n",
              "       'mumbai', 'delhi', 'delhi', 'mumbai', 'mumbai', 'mumbai',\n",
              "       'bangalore', 'hyderabad', 'mumbai', 'punjab', 'mumbai', 'punjab',\n",
              "       'mumbai', 'punjab', 'mumbai', 'mumbai', 'delhi', 'hyderabad',\n",
              "       'mumbai', 'mumbai', 'bangalore', 'mumbai', 'mumbai', 'hyderabad',\n",
              "       'mumbai', 'delhi', 'hyderabad', 'mumbai', 'hyderabad', 'delhi',\n",
              "       'mumbai', 'hyderabad', 'bangalore', 'hyderabad', 'punjab',\n",
              "       'mumbai', 'mumbai', 'punjab', 'mumbai', 'mumbai', 'mumbai',\n",
              "       'hyderabad', 'delhi', 'delhi', 'bangalore', 'bangalore', 'mumbai',\n",
              "       'hyderabad', 'hyderabad', 'mumbai', 'hyderabad', 'hyderabad',\n",
              "       'punjab', 'mumbai', 'delhi', 'hyderabad', 'mumbai', 'mumbai',\n",
              "       'mumbai', 'mumbai', 'delhi', 'mumbai', 'mumbai', 'mumbai', 'delhi',\n",
              "       'mumbai', 'mumbai', 'mumbai', 'hyderabad', 'mumbai', 'mumbai',\n",
              "       'mumbai', 'mumbai', 'delhi', 'hyderabad', 'hyderabad', 'mumbai',\n",
              "       'hyderabad', 'mumbai', 'punjab', 'mumbai', 'mumbai', 'mumbai',\n",
              "       'hyderabad', 'mumbai', 'mumbai', 'hyderabad', 'hyderabad',\n",
              "       'hyderabad', 'bangalore', 'mumbai', 'mumbai', 'delhi', 'hyderabad',\n",
              "       'bangalore', 'mumbai', 'mumbai', 'mumbai', 'bangalore',\n",
              "       'hyderabad', 'mumbai', 'mumbai', 'mumbai', 'mumbai', 'mumbai',\n",
              "       'hyderabad', 'hyderabad', 'mumbai', 'mumbai', 'mumbai', 'mumbai',\n",
              "       'delhi', 'mumbai', 'mumbai', 'mumbai', 'mumbai', 'hyderabad',\n",
              "       'mumbai', 'hyderabad', 'mumbai', 'mumbai', 'delhi', 'hyderabad',\n",
              "       'mumbai', 'mumbai', 'hyderabad', 'mumbai', 'punjab', 'mumbai',\n",
              "       'mumbai', 'hyderabad', 'mumbai', 'mumbai', 'mumbai', 'mumbai',\n",
              "       'bangalore', 'mumbai', 'mumbai', 'hyderabad', 'delhi', 'punjab',\n",
              "       'mumbai', 'mumbai', 'mumbai', 'mumbai', 'mumbai', 'mumbai',\n",
              "       'mumbai', 'mumbai', 'mumbai', 'mumbai', 'mumbai', 'mumbai',\n",
              "       'mumbai', 'mumbai', 'mumbai', 'mumbai', 'delhi', 'hyderabad',\n",
              "       'bangalore', 'delhi', 'mumbai', 'delhi', 'mumbai', 'mumbai',\n",
              "       'mumbai', 'mumbai', 'hyderabad', 'mumbai', 'mumbai', 'mumbai',\n",
              "       'mumbai', 'mumbai', 'mumbai', 'mumbai', 'mumbai', 'bangalore',\n",
              "       'mumbai', 'mumbai', 'hyderabad', 'bangalore', 'hyderabad',\n",
              "       'mumbai', 'hyderabad', 'delhi', 'delhi', 'mumbai', 'mumbai',\n",
              "       'mumbai', 'mumbai', 'delhi', 'bangalore', 'hyderabad', 'mumbai',\n",
              "       'mumbai', 'hyderabad', 'bangalore', 'hyderabad', 'mumbai', 'delhi',\n",
              "       'hyderabad', 'hyderabad', 'mumbai', 'mumbai', 'bangalore',\n",
              "       'mumbai', 'mumbai', 'mumbai', 'delhi', 'mumbai', 'hyderabad',\n",
              "       'punjab', 'delhi', 'delhi', 'mumbai', 'hyderabad', 'mumbai',\n",
              "       'delhi', 'mumbai', 'hyderabad', 'mumbai', 'bangalore', 'mumbai',\n",
              "       'hyderabad', 'hyderabad', 'mumbai', 'hyderabad', 'mumbai',\n",
              "       'mumbai', 'hyderabad', 'hyderabad', 'delhi', 'mumbai', 'mumbai',\n",
              "       'bangalore', 'mumbai'], dtype='<U9')"
            ]
          },
          "metadata": {},
          "execution_count": 29
        }
      ]
    },
    {
      "cell_type": "code",
      "source": [
        "population_of_spec_city = stats.poisson.rvs(loc=18,  mu=30,  size= 1000)\n",
        "# stats.poisson.rvs method is used to generate random numbers, where loc is to define mean, mu is used to specify shape \n",
        "#paramters and as for the size, it defines the number of values\n",
        "\n",
        "population_of_spec_city\n"
      ],
      "metadata": {
        "id": "ifL_o6gDE1uI",
        "colab": {
          "base_uri": "https://localhost:8080/"
        },
        "outputId": "99196810-38e0-43c4-d8b7-c587dcc984b6"
      },
      "execution_count": null,
      "outputs": [
        {
          "output_type": "execute_result",
          "data": {
            "text/plain": [
              "array([58, 58, 45, 47, 50, 42, 39, 48, 49, 41, 42, 47, 52, 47, 45, 48, 44,\n",
              "       51, 38, 48, 50, 47, 51, 39, 45, 52, 45, 55, 49, 56, 48, 54, 44, 52,\n",
              "       51, 49, 50, 36, 44, 55, 43, 49, 60, 49, 47, 48, 45, 44, 44, 35, 48,\n",
              "       54, 49, 42, 50, 47, 55, 50, 48, 46, 49, 43, 44, 47, 48, 54, 46, 49,\n",
              "       43, 52, 40, 49, 58, 51, 44, 42, 47, 50, 45, 59, 43, 46, 55, 52, 44,\n",
              "       46, 54, 54, 52, 46, 48, 49, 39, 54, 51, 42, 48, 57, 52, 49, 47, 55,\n",
              "       59, 36, 45, 50, 48, 51, 44, 42, 46, 47, 56, 47, 47, 53, 38, 40, 47,\n",
              "       47, 49, 41, 52, 50, 39, 55, 36, 45, 55, 43, 40, 52, 46, 53, 52, 44,\n",
              "       55, 52, 54, 46, 42, 50, 42, 52, 44, 37, 44, 45, 43, 48, 50, 57, 47,\n",
              "       47, 38, 50, 50, 52, 53, 57, 48, 39, 46, 57, 45, 43, 42, 58, 38, 54,\n",
              "       48, 52, 44, 52, 59, 40, 63, 37, 40, 48, 50, 64, 43, 52, 44, 40, 42,\n",
              "       52, 49, 57, 53, 52, 54, 51, 53, 48, 46, 49, 43, 50, 43, 66, 57, 53,\n",
              "       50, 51, 49, 46, 48, 54, 55, 49, 49, 52, 40, 41, 50, 46, 40, 47, 52,\n",
              "       46, 53, 51, 60, 38, 42, 44, 54, 61, 51, 53, 52, 46, 50, 56, 44, 52,\n",
              "       54, 55, 51, 40, 44, 54, 53, 40, 45, 55, 37, 44, 55, 53, 44, 50, 54,\n",
              "       48, 50, 47, 45, 53, 46, 45, 58, 41, 51, 48, 64, 43, 51, 55, 42, 31,\n",
              "       44, 47, 40, 36, 42, 53, 41, 45, 52, 40, 62, 47, 51, 56, 51, 51, 38,\n",
              "       52, 47, 45, 42, 37, 49, 43, 49, 40, 40, 46, 54, 47, 48, 42, 40, 42,\n",
              "       57, 50, 52, 42, 51, 49, 41, 44, 52, 46, 48, 40, 47, 51, 44, 39, 46,\n",
              "       48, 49, 49, 45, 52, 53, 57, 41, 42, 54, 42, 50, 41, 40, 47, 50, 48,\n",
              "       49, 56, 57, 47, 50, 52, 46, 39, 37, 40, 48, 41, 44, 53, 44, 46, 39,\n",
              "       46, 42, 46, 52, 53, 39, 49, 58, 39, 46, 42, 46, 39, 43, 52, 54, 50,\n",
              "       47, 48, 44, 48, 41, 56, 39, 42, 53, 50, 52, 51, 55, 49, 57, 47, 45,\n",
              "       45, 48, 45, 49, 55, 47, 52, 45, 46, 49, 46, 54, 46, 63, 52, 47, 47,\n",
              "       49, 48, 50, 50, 44, 41, 46, 36, 43, 55, 46, 46, 42, 52, 51, 57, 35,\n",
              "       47, 52, 45, 51, 48, 53, 46, 41, 48, 42, 44, 48, 46, 51, 52, 55, 44,\n",
              "       42, 47, 52, 40, 51, 37, 45, 51, 41, 47, 45, 39, 44, 50, 52, 52, 46,\n",
              "       38, 49, 44, 52, 40, 41, 49, 49, 54, 43, 49, 41, 45, 55, 43, 50, 56,\n",
              "       51, 51, 48, 50, 54, 43, 47, 54, 55, 48, 44, 45, 43, 45, 47, 52, 47,\n",
              "       53, 41, 38, 43, 42, 46, 47, 47, 52, 51, 42, 48, 42, 50, 49, 47, 43,\n",
              "       51, 36, 50, 50, 43, 49, 53, 52, 44, 43, 45, 46, 45, 49, 44, 49, 57,\n",
              "       53, 50, 45, 42, 43, 44, 43, 46, 45, 58, 66, 57, 50, 49, 52, 56, 45,\n",
              "       43, 54, 48, 51, 45, 56, 47, 57, 52, 58, 46, 46, 45, 40, 42, 48, 48,\n",
              "       42, 48, 55, 46, 51, 42, 52, 46, 47, 49, 46, 44, 49, 52, 37, 53, 42,\n",
              "       45, 54, 48, 35, 52, 43, 47, 52, 41, 49, 47, 46, 48, 48, 51, 40, 51,\n",
              "       49, 49, 47, 41, 34, 48, 58, 47, 60, 43, 49, 44, 53, 44, 54, 53, 39,\n",
              "       57, 53, 44, 50, 38, 42, 42, 45, 47, 51, 37, 49, 51, 44, 48, 46, 50,\n",
              "       44, 47, 48, 43, 61, 53, 46, 52, 47, 42, 59, 37, 59, 39, 49, 47, 57,\n",
              "       51, 51, 53, 51, 54, 44, 47, 50, 54, 41, 59, 52, 47, 50, 47, 40, 44,\n",
              "       43, 49, 41, 55, 46, 46, 47, 46, 49, 39, 46, 43, 48, 56, 56, 47, 47,\n",
              "       44, 51, 42, 47, 47, 41, 46, 54, 44, 54, 44, 45, 50, 52, 47, 44, 62,\n",
              "       44, 49, 47, 45, 50, 50, 46, 46, 46, 49, 42, 50, 48, 47, 51, 49, 47,\n",
              "       56, 56, 52, 53, 47, 58, 56, 48, 50, 48, 45, 48, 41, 36, 48, 48, 46,\n",
              "       52, 44, 44, 56, 53, 48, 47, 41, 49, 50, 45, 54, 38, 50, 46, 48, 52,\n",
              "       42, 52, 43, 55, 39, 46, 48, 51, 54, 42, 47, 49, 46, 43, 49, 56, 38,\n",
              "       40, 52, 53, 48, 45, 50, 40, 47, 46, 55, 45, 46, 41, 53, 37, 42, 40,\n",
              "       40, 55, 49, 48, 50, 34, 47, 41, 51, 48, 41, 46, 46, 40, 50, 49, 52,\n",
              "       44, 47, 49, 42, 53, 48, 51, 41, 51, 47, 42, 57, 48, 53, 58, 45, 46,\n",
              "       50, 48, 44, 37, 44, 54, 53, 46, 47, 49, 46, 46, 37, 45, 57, 44, 44,\n",
              "       53, 47, 40, 43, 49, 41, 44, 44, 48, 48, 51, 48, 52, 54, 55, 41, 54,\n",
              "       48, 46, 39, 39, 40, 56, 48, 48, 51, 45, 51, 51, 62, 42, 39, 59, 54,\n",
              "       46, 55, 48, 48, 40, 48, 48, 44, 44, 46, 48, 39, 56, 46, 42, 43, 51,\n",
              "       54, 52, 38, 59, 51, 51, 44, 50, 51, 48, 52, 41, 42, 46, 45, 43, 45,\n",
              "       46, 48, 49, 51, 51, 51, 49, 52, 51, 49, 48, 38, 54, 52, 37, 42, 51,\n",
              "       50, 53, 60, 56, 57, 51, 54, 48, 56, 44, 50, 53, 51, 52, 47, 41, 38,\n",
              "       47, 51, 50, 41, 50, 47, 51, 47, 45, 41, 48, 45, 51, 60, 43, 38, 49,\n",
              "       48, 49, 50, 48, 49, 41, 49, 48, 47, 53, 42, 58, 51, 54, 51, 51, 37,\n",
              "       43, 51, 44, 51, 46, 50, 53, 48, 42, 45, 43, 45, 40, 53, 56, 48, 47,\n",
              "       38, 45, 56, 48, 43, 34, 47, 50, 48, 52, 53, 51, 54, 42])"
            ]
          },
          "metadata": {},
          "execution_count": 30
        }
      ]
    },
    {
      "cell_type": "code",
      "source": [
        "# Forming the Dataframe from the obatined values\n",
        "population_frame = pd.DataFrame({\"city\":people_of_spec_city,\"population\":population_of_spec_city})\n",
        "\n",
        "# Dividing these values by the categorical variables into groups\n",
        "groups = population_frame.groupby(\"city\").groups\n",
        "\n",
        "groups"
      ],
      "metadata": {
        "id": "XHkXMaXRE1y0",
        "colab": {
          "base_uri": "https://localhost:8080/"
        },
        "outputId": "05f8d3f0-432f-4a9b-ded4-c0fa3363a7ca"
      },
      "execution_count": null,
      "outputs": [
        {
          "output_type": "execute_result",
          "data": {
            "text/plain": [
              "{'bangalore': [0, 23, 39, 50, 51, 76, 88, 90, 118, 124, 171, 178, 189, 211, 222, 224, 264, 302, 307, 319, 366, 378, 434, 449, 494, 497, 507, 510, 566, 568, 609, 611, 621, 628, 645, 681, 747, 770, 784, 796, 808, 809, 853, 858, 862, 899, 923, 940, 944, 955, 960, 968, 985, 998], 'delhi': [3, 11, 16, 25, 33, 35, 36, 58, 64, 87, 97, 108, 110, 111, 115, 119, 133, 136, 137, 141, 151, 153, 162, 167, 174, 181, 183, 186, 200, 220, 238, 253, 256, 269, 277, 285, 292, 306, 308, 311, 313, 314, 318, 340, 350, 356, 372, 374, 398, 401, 409, 412, 413, 420, 432, 436, 437, 441, 445, 451, 453, 460, 471, 477, 489, 498, 500, 503, 522, 524, 527, 531, 536, 540, 558, 573, 589, 591, 597, 598, 601, 607, 612, 616, 626, 632, 642, 646, 654, 668, 677, 684, 685, 687, 688, 694, 697, 708, 718, 723, ...], 'hyderabad': [1, 2, 4, 15, 22, 27, 28, 29, 31, 32, 37, 42, 46, 48, 52, 55, 57, 61, 67, 69, 74, 75, 81, 85, 94, 101, 102, 109, 112, 121, 126, 128, 130, 132, 140, 144, 149, 150, 152, 154, 156, 160, 161, 163, 164, 166, 170, 179, 185, 188, 194, 197, 207, 213, 214, 216, 221, 223, 227, 232, 237, 243, 245, 246, 248, 249, 250, 254, 255, 257, 258, 260, 263, 266, 267, 268, 279, 280, 283, 284, 290, 295, 297, 303, 304, 305, 315, 325, 328, 330, 335, 336, 338, 339, 341, 359, 384, 386, 387, 388, ...], 'mumbai': [5, 6, 7, 8, 9, 10, 12, 13, 14, 17, 18, 19, 20, 24, 26, 30, 34, 38, 40, 41, 43, 44, 45, 47, 49, 53, 54, 56, 59, 60, 62, 63, 66, 68, 70, 71, 72, 73, 77, 78, 79, 80, 82, 83, 84, 86, 89, 92, 93, 95, 96, 98, 99, 100, 103, 104, 105, 106, 107, 113, 114, 116, 117, 120, 122, 123, 125, 131, 134, 138, 139, 142, 143, 145, 148, 155, 158, 159, 165, 168, 169, 172, 173, 176, 177, 180, 182, 184, 187, 190, 191, 192, 193, 195, 196, 198, 199, 201, 202, 203, ...], 'punjab': [21, 65, 91, 127, 129, 135, 146, 147, 157, 175, 206, 230, 235, 270, 271, 281, 320, 353, 363, 394, 407, 443, 464, 482, 493, 521, 561, 600, 606, 629, 652, 667, 679, 724, 752, 761, 773, 775, 777, 798, 801, 816, 843, 891, 904, 975]}"
            ]
          },
          "metadata": {},
          "execution_count": 31
        }
      ]
    },
    {
      "cell_type": "code",
      "source": [
        "asian = population_of_spec_city [groups[\"punjab\"]]\n",
        "black = population_of_spec_city[groups[\"bangalore\"]]\n",
        "hispanic = population_of_spec_city[groups[\"delhi\"]]\n",
        "other = population_of_spec_city[groups[\"hyderabad\"]]\n",
        "white = population_of_spec_city[groups[\"mumbai\"]]"
      ],
      "metadata": {
        "id": "yWlCz25DE11r"
      },
      "execution_count": null,
      "outputs": []
    },
    {
      "cell_type": "code",
      "source": [
        "stats.f_oneway(asian, black, hispanic, other, white)"
      ],
      "metadata": {
        "id": "eWiybtw-F00v",
        "colab": {
          "base_uri": "https://localhost:8080/"
        },
        "outputId": "2439bd47-efe8-4a95-850a-028569f36301"
      },
      "execution_count": null,
      "outputs": [
        {
          "output_type": "execute_result",
          "data": {
            "text/plain": [
              "F_onewayResult(statistic=1.1702346131741366, pvalue=0.3223375721204956)"
            ]
          },
          "metadata": {},
          "execution_count": 38
        }
      ]
    },
    {
      "cell_type": "markdown",
      "source": [
        "**Correlation coefficients**"
      ],
      "metadata": {
        "id": "E59C0IINF9yb"
      }
    },
    {
      "cell_type": "code",
      "source": [
        "from google.colab import drive\n",
        "drive.mount('/content/drive/MyDrive/Applied Data Science/Experiment2/happyscore_income.csv')"
      ],
      "metadata": {
        "colab": {
          "base_uri": "https://localhost:8080/"
        },
        "id": "yuLXUDELNeRv",
        "outputId": "60830903-83c4-42c0-e9a5-ba69af171455"
      },
      "execution_count": null,
      "outputs": [
        {
          "output_type": "stream",
          "name": "stdout",
          "text": [
            "Mounted at /content/drive\n"
          ]
        }
      ]
    },
    {
      "cell_type": "code",
      "source": [
        "import pandas as pd\n",
        "import numpy as np\n",
        "\n",
        "df = pd.read_csv('/content/drive/MyDrive/Applied Data Science/Experiment2/happyscore_income.csv',index_col=0)\n",
        "df.head()\n"
      ],
      "metadata": {
        "id": "6czfwohTF06X",
        "colab": {
          "base_uri": "https://localhost:8080/",
          "height": 351
        },
        "outputId": "440c07a5-184b-4714-ba5c-6e9562f8b761"
      },
      "execution_count": null,
      "outputs": [
        {
          "output_type": "execute_result",
          "data": {
            "text/plain": [
              "           adjusted_satisfaction  avg_satisfaction  std_satisfaction  \\\n",
              "country                                                                \n",
              "Armenia                     37.0               4.9              2.42   \n",
              "Angola                      26.0               4.3              3.19   \n",
              "Argentina                   60.0               7.1              1.91   \n",
              "Austria                     59.0               7.2              2.11   \n",
              "Australia                   65.0               7.6              1.80   \n",
              "\n",
              "           avg_income  median_income  income_inequality  \\\n",
              "country                                                   \n",
              "Armenia       2096.76    1731.506667          31.445556   \n",
              "Angola        1448.88    1044.240000          42.720000   \n",
              "Argentina     7101.12    5109.400000          45.475556   \n",
              "Austria      19457.04   16879.620000          30.296250   \n",
              "Australia    19917.00   15846.060000          35.285000   \n",
              "\n",
              "                                  region  happyScore      GDP  country.1  \n",
              "country                                                                   \n",
              "Armenia     'Central and Eastern Europe'       4.350  0.76821    Armenia  \n",
              "Angola              'Sub-Saharan Africa'       4.033  0.75778     Angola  \n",
              "Argentina  'Latin America and Caribbean'       6.574  1.05351  Argentina  \n",
              "Austria                 'Western Europe'       7.200  1.33723    Austria  \n",
              "Australia    'Australia and New Zealand'       7.284  1.33358  Australia  "
            ],
            "text/html": [
              "\n",
              "  <div id=\"df-31923bd2-e7f6-44a1-b328-b326a7525c83\">\n",
              "    <div class=\"colab-df-container\">\n",
              "      <div>\n",
              "<style scoped>\n",
              "    .dataframe tbody tr th:only-of-type {\n",
              "        vertical-align: middle;\n",
              "    }\n",
              "\n",
              "    .dataframe tbody tr th {\n",
              "        vertical-align: top;\n",
              "    }\n",
              "\n",
              "    .dataframe thead th {\n",
              "        text-align: right;\n",
              "    }\n",
              "</style>\n",
              "<table border=\"1\" class=\"dataframe\">\n",
              "  <thead>\n",
              "    <tr style=\"text-align: right;\">\n",
              "      <th></th>\n",
              "      <th>adjusted_satisfaction</th>\n",
              "      <th>avg_satisfaction</th>\n",
              "      <th>std_satisfaction</th>\n",
              "      <th>avg_income</th>\n",
              "      <th>median_income</th>\n",
              "      <th>income_inequality</th>\n",
              "      <th>region</th>\n",
              "      <th>happyScore</th>\n",
              "      <th>GDP</th>\n",
              "      <th>country.1</th>\n",
              "    </tr>\n",
              "    <tr>\n",
              "      <th>country</th>\n",
              "      <th></th>\n",
              "      <th></th>\n",
              "      <th></th>\n",
              "      <th></th>\n",
              "      <th></th>\n",
              "      <th></th>\n",
              "      <th></th>\n",
              "      <th></th>\n",
              "      <th></th>\n",
              "      <th></th>\n",
              "    </tr>\n",
              "  </thead>\n",
              "  <tbody>\n",
              "    <tr>\n",
              "      <th>Armenia</th>\n",
              "      <td>37.0</td>\n",
              "      <td>4.9</td>\n",
              "      <td>2.42</td>\n",
              "      <td>2096.76</td>\n",
              "      <td>1731.506667</td>\n",
              "      <td>31.445556</td>\n",
              "      <td>'Central and Eastern Europe'</td>\n",
              "      <td>4.350</td>\n",
              "      <td>0.76821</td>\n",
              "      <td>Armenia</td>\n",
              "    </tr>\n",
              "    <tr>\n",
              "      <th>Angola</th>\n",
              "      <td>26.0</td>\n",
              "      <td>4.3</td>\n",
              "      <td>3.19</td>\n",
              "      <td>1448.88</td>\n",
              "      <td>1044.240000</td>\n",
              "      <td>42.720000</td>\n",
              "      <td>'Sub-Saharan Africa'</td>\n",
              "      <td>4.033</td>\n",
              "      <td>0.75778</td>\n",
              "      <td>Angola</td>\n",
              "    </tr>\n",
              "    <tr>\n",
              "      <th>Argentina</th>\n",
              "      <td>60.0</td>\n",
              "      <td>7.1</td>\n",
              "      <td>1.91</td>\n",
              "      <td>7101.12</td>\n",
              "      <td>5109.400000</td>\n",
              "      <td>45.475556</td>\n",
              "      <td>'Latin America and Caribbean'</td>\n",
              "      <td>6.574</td>\n",
              "      <td>1.05351</td>\n",
              "      <td>Argentina</td>\n",
              "    </tr>\n",
              "    <tr>\n",
              "      <th>Austria</th>\n",
              "      <td>59.0</td>\n",
              "      <td>7.2</td>\n",
              "      <td>2.11</td>\n",
              "      <td>19457.04</td>\n",
              "      <td>16879.620000</td>\n",
              "      <td>30.296250</td>\n",
              "      <td>'Western Europe'</td>\n",
              "      <td>7.200</td>\n",
              "      <td>1.33723</td>\n",
              "      <td>Austria</td>\n",
              "    </tr>\n",
              "    <tr>\n",
              "      <th>Australia</th>\n",
              "      <td>65.0</td>\n",
              "      <td>7.6</td>\n",
              "      <td>1.80</td>\n",
              "      <td>19917.00</td>\n",
              "      <td>15846.060000</td>\n",
              "      <td>35.285000</td>\n",
              "      <td>'Australia and New Zealand'</td>\n",
              "      <td>7.284</td>\n",
              "      <td>1.33358</td>\n",
              "      <td>Australia</td>\n",
              "    </tr>\n",
              "  </tbody>\n",
              "</table>\n",
              "</div>\n",
              "      <button class=\"colab-df-convert\" onclick=\"convertToInteractive('df-31923bd2-e7f6-44a1-b328-b326a7525c83')\"\n",
              "              title=\"Convert this dataframe to an interactive table.\"\n",
              "              style=\"display:none;\">\n",
              "        \n",
              "  <svg xmlns=\"http://www.w3.org/2000/svg\" height=\"24px\"viewBox=\"0 0 24 24\"\n",
              "       width=\"24px\">\n",
              "    <path d=\"M0 0h24v24H0V0z\" fill=\"none\"/>\n",
              "    <path d=\"M18.56 5.44l.94 2.06.94-2.06 2.06-.94-2.06-.94-.94-2.06-.94 2.06-2.06.94zm-11 1L8.5 8.5l.94-2.06 2.06-.94-2.06-.94L8.5 2.5l-.94 2.06-2.06.94zm10 10l.94 2.06.94-2.06 2.06-.94-2.06-.94-.94-2.06-.94 2.06-2.06.94z\"/><path d=\"M17.41 7.96l-1.37-1.37c-.4-.4-.92-.59-1.43-.59-.52 0-1.04.2-1.43.59L10.3 9.45l-7.72 7.72c-.78.78-.78 2.05 0 2.83L4 21.41c.39.39.9.59 1.41.59.51 0 1.02-.2 1.41-.59l7.78-7.78 2.81-2.81c.8-.78.8-2.07 0-2.86zM5.41 20L4 18.59l7.72-7.72 1.47 1.35L5.41 20z\"/>\n",
              "  </svg>\n",
              "      </button>\n",
              "      \n",
              "  <style>\n",
              "    .colab-df-container {\n",
              "      display:flex;\n",
              "      flex-wrap:wrap;\n",
              "      gap: 12px;\n",
              "    }\n",
              "\n",
              "    .colab-df-convert {\n",
              "      background-color: #E8F0FE;\n",
              "      border: none;\n",
              "      border-radius: 50%;\n",
              "      cursor: pointer;\n",
              "      display: none;\n",
              "      fill: #1967D2;\n",
              "      height: 32px;\n",
              "      padding: 0 0 0 0;\n",
              "      width: 32px;\n",
              "    }\n",
              "\n",
              "    .colab-df-convert:hover {\n",
              "      background-color: #E2EBFA;\n",
              "      box-shadow: 0px 1px 2px rgba(60, 64, 67, 0.3), 0px 1px 3px 1px rgba(60, 64, 67, 0.15);\n",
              "      fill: #174EA6;\n",
              "    }\n",
              "\n",
              "    [theme=dark] .colab-df-convert {\n",
              "      background-color: #3B4455;\n",
              "      fill: #D2E3FC;\n",
              "    }\n",
              "\n",
              "    [theme=dark] .colab-df-convert:hover {\n",
              "      background-color: #434B5C;\n",
              "      box-shadow: 0px 1px 3px 1px rgba(0, 0, 0, 0.15);\n",
              "      filter: drop-shadow(0px 1px 2px rgba(0, 0, 0, 0.3));\n",
              "      fill: #FFFFFF;\n",
              "    }\n",
              "  </style>\n",
              "\n",
              "      <script>\n",
              "        const buttonEl =\n",
              "          document.querySelector('#df-31923bd2-e7f6-44a1-b328-b326a7525c83 button.colab-df-convert');\n",
              "        buttonEl.style.display =\n",
              "          google.colab.kernel.accessAllowed ? 'block' : 'none';\n",
              "\n",
              "        async function convertToInteractive(key) {\n",
              "          const element = document.querySelector('#df-31923bd2-e7f6-44a1-b328-b326a7525c83');\n",
              "          const dataTable =\n",
              "            await google.colab.kernel.invokeFunction('convertToInteractive',\n",
              "                                                     [key], {});\n",
              "          if (!dataTable) return;\n",
              "\n",
              "          const docLinkHtml = 'Like what you see? Visit the ' +\n",
              "            '<a target=\"_blank\" href=https://colab.research.google.com/notebooks/data_table.ipynb>data table notebook</a>'\n",
              "            + ' to learn more about interactive tables.';\n",
              "          element.innerHTML = '';\n",
              "          dataTable['output_type'] = 'display_data';\n",
              "          await google.colab.output.renderOutput(dataTable, element);\n",
              "          const docLink = document.createElement('div');\n",
              "          docLink.innerHTML = docLinkHtml;\n",
              "          element.appendChild(docLink);\n",
              "        }\n",
              "      </script>\n",
              "    </div>\n",
              "  </div>\n",
              "  "
            ]
          },
          "metadata": {},
          "execution_count": 41
        }
      ]
    },
    {
      "cell_type": "code",
      "source": [
        "df.corr(method='pearson')"
      ],
      "metadata": {
        "id": "Br8TCIfCF087",
        "colab": {
          "base_uri": "https://localhost:8080/",
          "height": 300
        },
        "outputId": "edab0549-f4a4-45be-ecc0-ee4e187c5665"
      },
      "execution_count": null,
      "outputs": [
        {
          "output_type": "execute_result",
          "data": {
            "text/plain": [
              "                       adjusted_satisfaction  avg_satisfaction  \\\n",
              "adjusted_satisfaction               1.000000          0.978067   \n",
              "avg_satisfaction                    0.978067          1.000000   \n",
              "std_satisfaction                   -0.527553         -0.341201   \n",
              "avg_income                          0.728006          0.689043   \n",
              "median_income                       0.704383          0.661883   \n",
              "income_inequality                  -0.123835         -0.082471   \n",
              "happyScore                          0.901213          0.885988   \n",
              "GDP                                 0.755578          0.776679   \n",
              "\n",
              "                       std_satisfaction  avg_income  median_income  \\\n",
              "adjusted_satisfaction         -0.527553    0.728006       0.704383   \n",
              "avg_satisfaction              -0.341201    0.689043       0.661883   \n",
              "std_satisfaction               1.000000   -0.478206      -0.481429   \n",
              "avg_income                    -0.478206    1.000000       0.995605   \n",
              "median_income                 -0.481429    0.995605       1.000000   \n",
              "income_inequality              0.221831   -0.382587      -0.449053   \n",
              "happyScore                    -0.457896    0.782122       0.760328   \n",
              "GDP                           -0.242038    0.814024       0.797905   \n",
              "\n",
              "                       income_inequality  happyScore       GDP  \n",
              "adjusted_satisfaction          -0.123835    0.901213  0.755578  \n",
              "avg_satisfaction               -0.082471    0.885988  0.776679  \n",
              "std_satisfaction                0.221831   -0.457896 -0.242038  \n",
              "avg_income                     -0.382587    0.782122  0.814024  \n",
              "median_income                  -0.449053    0.760328  0.797905  \n",
              "income_inequality               1.000000   -0.187222 -0.303204  \n",
              "happyScore                     -0.187222    1.000000  0.790061  \n",
              "GDP                            -0.303204    0.790061  1.000000  "
            ],
            "text/html": [
              "\n",
              "  <div id=\"df-49746716-f8ae-4477-88c0-a52b795d99bb\">\n",
              "    <div class=\"colab-df-container\">\n",
              "      <div>\n",
              "<style scoped>\n",
              "    .dataframe tbody tr th:only-of-type {\n",
              "        vertical-align: middle;\n",
              "    }\n",
              "\n",
              "    .dataframe tbody tr th {\n",
              "        vertical-align: top;\n",
              "    }\n",
              "\n",
              "    .dataframe thead th {\n",
              "        text-align: right;\n",
              "    }\n",
              "</style>\n",
              "<table border=\"1\" class=\"dataframe\">\n",
              "  <thead>\n",
              "    <tr style=\"text-align: right;\">\n",
              "      <th></th>\n",
              "      <th>adjusted_satisfaction</th>\n",
              "      <th>avg_satisfaction</th>\n",
              "      <th>std_satisfaction</th>\n",
              "      <th>avg_income</th>\n",
              "      <th>median_income</th>\n",
              "      <th>income_inequality</th>\n",
              "      <th>happyScore</th>\n",
              "      <th>GDP</th>\n",
              "    </tr>\n",
              "  </thead>\n",
              "  <tbody>\n",
              "    <tr>\n",
              "      <th>adjusted_satisfaction</th>\n",
              "      <td>1.000000</td>\n",
              "      <td>0.978067</td>\n",
              "      <td>-0.527553</td>\n",
              "      <td>0.728006</td>\n",
              "      <td>0.704383</td>\n",
              "      <td>-0.123835</td>\n",
              "      <td>0.901213</td>\n",
              "      <td>0.755578</td>\n",
              "    </tr>\n",
              "    <tr>\n",
              "      <th>avg_satisfaction</th>\n",
              "      <td>0.978067</td>\n",
              "      <td>1.000000</td>\n",
              "      <td>-0.341201</td>\n",
              "      <td>0.689043</td>\n",
              "      <td>0.661883</td>\n",
              "      <td>-0.082471</td>\n",
              "      <td>0.885988</td>\n",
              "      <td>0.776679</td>\n",
              "    </tr>\n",
              "    <tr>\n",
              "      <th>std_satisfaction</th>\n",
              "      <td>-0.527553</td>\n",
              "      <td>-0.341201</td>\n",
              "      <td>1.000000</td>\n",
              "      <td>-0.478206</td>\n",
              "      <td>-0.481429</td>\n",
              "      <td>0.221831</td>\n",
              "      <td>-0.457896</td>\n",
              "      <td>-0.242038</td>\n",
              "    </tr>\n",
              "    <tr>\n",
              "      <th>avg_income</th>\n",
              "      <td>0.728006</td>\n",
              "      <td>0.689043</td>\n",
              "      <td>-0.478206</td>\n",
              "      <td>1.000000</td>\n",
              "      <td>0.995605</td>\n",
              "      <td>-0.382587</td>\n",
              "      <td>0.782122</td>\n",
              "      <td>0.814024</td>\n",
              "    </tr>\n",
              "    <tr>\n",
              "      <th>median_income</th>\n",
              "      <td>0.704383</td>\n",
              "      <td>0.661883</td>\n",
              "      <td>-0.481429</td>\n",
              "      <td>0.995605</td>\n",
              "      <td>1.000000</td>\n",
              "      <td>-0.449053</td>\n",
              "      <td>0.760328</td>\n",
              "      <td>0.797905</td>\n",
              "    </tr>\n",
              "    <tr>\n",
              "      <th>income_inequality</th>\n",
              "      <td>-0.123835</td>\n",
              "      <td>-0.082471</td>\n",
              "      <td>0.221831</td>\n",
              "      <td>-0.382587</td>\n",
              "      <td>-0.449053</td>\n",
              "      <td>1.000000</td>\n",
              "      <td>-0.187222</td>\n",
              "      <td>-0.303204</td>\n",
              "    </tr>\n",
              "    <tr>\n",
              "      <th>happyScore</th>\n",
              "      <td>0.901213</td>\n",
              "      <td>0.885988</td>\n",
              "      <td>-0.457896</td>\n",
              "      <td>0.782122</td>\n",
              "      <td>0.760328</td>\n",
              "      <td>-0.187222</td>\n",
              "      <td>1.000000</td>\n",
              "      <td>0.790061</td>\n",
              "    </tr>\n",
              "    <tr>\n",
              "      <th>GDP</th>\n",
              "      <td>0.755578</td>\n",
              "      <td>0.776679</td>\n",
              "      <td>-0.242038</td>\n",
              "      <td>0.814024</td>\n",
              "      <td>0.797905</td>\n",
              "      <td>-0.303204</td>\n",
              "      <td>0.790061</td>\n",
              "      <td>1.000000</td>\n",
              "    </tr>\n",
              "  </tbody>\n",
              "</table>\n",
              "</div>\n",
              "      <button class=\"colab-df-convert\" onclick=\"convertToInteractive('df-49746716-f8ae-4477-88c0-a52b795d99bb')\"\n",
              "              title=\"Convert this dataframe to an interactive table.\"\n",
              "              style=\"display:none;\">\n",
              "        \n",
              "  <svg xmlns=\"http://www.w3.org/2000/svg\" height=\"24px\"viewBox=\"0 0 24 24\"\n",
              "       width=\"24px\">\n",
              "    <path d=\"M0 0h24v24H0V0z\" fill=\"none\"/>\n",
              "    <path d=\"M18.56 5.44l.94 2.06.94-2.06 2.06-.94-2.06-.94-.94-2.06-.94 2.06-2.06.94zm-11 1L8.5 8.5l.94-2.06 2.06-.94-2.06-.94L8.5 2.5l-.94 2.06-2.06.94zm10 10l.94 2.06.94-2.06 2.06-.94-2.06-.94-.94-2.06-.94 2.06-2.06.94z\"/><path d=\"M17.41 7.96l-1.37-1.37c-.4-.4-.92-.59-1.43-.59-.52 0-1.04.2-1.43.59L10.3 9.45l-7.72 7.72c-.78.78-.78 2.05 0 2.83L4 21.41c.39.39.9.59 1.41.59.51 0 1.02-.2 1.41-.59l7.78-7.78 2.81-2.81c.8-.78.8-2.07 0-2.86zM5.41 20L4 18.59l7.72-7.72 1.47 1.35L5.41 20z\"/>\n",
              "  </svg>\n",
              "      </button>\n",
              "      \n",
              "  <style>\n",
              "    .colab-df-container {\n",
              "      display:flex;\n",
              "      flex-wrap:wrap;\n",
              "      gap: 12px;\n",
              "    }\n",
              "\n",
              "    .colab-df-convert {\n",
              "      background-color: #E8F0FE;\n",
              "      border: none;\n",
              "      border-radius: 50%;\n",
              "      cursor: pointer;\n",
              "      display: none;\n",
              "      fill: #1967D2;\n",
              "      height: 32px;\n",
              "      padding: 0 0 0 0;\n",
              "      width: 32px;\n",
              "    }\n",
              "\n",
              "    .colab-df-convert:hover {\n",
              "      background-color: #E2EBFA;\n",
              "      box-shadow: 0px 1px 2px rgba(60, 64, 67, 0.3), 0px 1px 3px 1px rgba(60, 64, 67, 0.15);\n",
              "      fill: #174EA6;\n",
              "    }\n",
              "\n",
              "    [theme=dark] .colab-df-convert {\n",
              "      background-color: #3B4455;\n",
              "      fill: #D2E3FC;\n",
              "    }\n",
              "\n",
              "    [theme=dark] .colab-df-convert:hover {\n",
              "      background-color: #434B5C;\n",
              "      box-shadow: 0px 1px 3px 1px rgba(0, 0, 0, 0.15);\n",
              "      filter: drop-shadow(0px 1px 2px rgba(0, 0, 0, 0.3));\n",
              "      fill: #FFFFFF;\n",
              "    }\n",
              "  </style>\n",
              "\n",
              "      <script>\n",
              "        const buttonEl =\n",
              "          document.querySelector('#df-49746716-f8ae-4477-88c0-a52b795d99bb button.colab-df-convert');\n",
              "        buttonEl.style.display =\n",
              "          google.colab.kernel.accessAllowed ? 'block' : 'none';\n",
              "\n",
              "        async function convertToInteractive(key) {\n",
              "          const element = document.querySelector('#df-49746716-f8ae-4477-88c0-a52b795d99bb');\n",
              "          const dataTable =\n",
              "            await google.colab.kernel.invokeFunction('convertToInteractive',\n",
              "                                                     [key], {});\n",
              "          if (!dataTable) return;\n",
              "\n",
              "          const docLinkHtml = 'Like what you see? Visit the ' +\n",
              "            '<a target=\"_blank\" href=https://colab.research.google.com/notebooks/data_table.ipynb>data table notebook</a>'\n",
              "            + ' to learn more about interactive tables.';\n",
              "          element.innerHTML = '';\n",
              "          dataTable['output_type'] = 'display_data';\n",
              "          await google.colab.output.renderOutput(dataTable, element);\n",
              "          const docLink = document.createElement('div');\n",
              "          docLink.innerHTML = docLinkHtml;\n",
              "          element.appendChild(docLink);\n",
              "        }\n",
              "      </script>\n",
              "    </div>\n",
              "  </div>\n",
              "  "
            ]
          },
          "metadata": {},
          "execution_count": 42
        }
      ]
    },
    {
      "cell_type": "code",
      "source": [
        "df.corr(method='spearman')"
      ],
      "metadata": {
        "id": "kA07fh9RGx2Z",
        "colab": {
          "base_uri": "https://localhost:8080/",
          "height": 300
        },
        "outputId": "cd6213f7-58ec-406c-8337-226df1b58e7b"
      },
      "execution_count": null,
      "outputs": [
        {
          "output_type": "execute_result",
          "data": {
            "text/plain": [
              "                       adjusted_satisfaction  avg_satisfaction  \\\n",
              "adjusted_satisfaction               1.000000          0.981629   \n",
              "avg_satisfaction                    0.981629          1.000000   \n",
              "std_satisfaction                   -0.497192         -0.354810   \n",
              "avg_income                          0.803010          0.808310   \n",
              "median_income                       0.779671          0.782479   \n",
              "income_inequality                  -0.168049         -0.137139   \n",
              "happyScore                          0.900697          0.893395   \n",
              "GDP                                 0.766098          0.773521   \n",
              "\n",
              "                       std_satisfaction  avg_income  median_income  \\\n",
              "adjusted_satisfaction         -0.497192    0.803010       0.779671   \n",
              "avg_satisfaction              -0.354810    0.808310       0.782479   \n",
              "std_satisfaction               1.000000   -0.317653      -0.309697   \n",
              "avg_income                    -0.317653    1.000000       0.990839   \n",
              "median_income                 -0.309697    0.990839       1.000000   \n",
              "income_inequality              0.182610   -0.356069      -0.448926   \n",
              "happyScore                    -0.421175    0.819542       0.806704   \n",
              "GDP                           -0.275832    0.960969       0.961583   \n",
              "\n",
              "                       income_inequality  happyScore       GDP  \n",
              "adjusted_satisfaction          -0.168049    0.900697  0.766098  \n",
              "avg_satisfaction               -0.137139    0.893395  0.773521  \n",
              "std_satisfaction                0.182610   -0.421175 -0.275832  \n",
              "avg_income                     -0.356069    0.819542  0.960969  \n",
              "median_income                  -0.448926    0.806704  0.961583  \n",
              "income_inequality               1.000000   -0.242107 -0.409767  \n",
              "happyScore                     -0.242107    1.000000  0.793673  \n",
              "GDP                            -0.409767    0.793673  1.000000  "
            ],
            "text/html": [
              "\n",
              "  <div id=\"df-c2fe07fe-7dab-432f-a66c-e816a3cb64a9\">\n",
              "    <div class=\"colab-df-container\">\n",
              "      <div>\n",
              "<style scoped>\n",
              "    .dataframe tbody tr th:only-of-type {\n",
              "        vertical-align: middle;\n",
              "    }\n",
              "\n",
              "    .dataframe tbody tr th {\n",
              "        vertical-align: top;\n",
              "    }\n",
              "\n",
              "    .dataframe thead th {\n",
              "        text-align: right;\n",
              "    }\n",
              "</style>\n",
              "<table border=\"1\" class=\"dataframe\">\n",
              "  <thead>\n",
              "    <tr style=\"text-align: right;\">\n",
              "      <th></th>\n",
              "      <th>adjusted_satisfaction</th>\n",
              "      <th>avg_satisfaction</th>\n",
              "      <th>std_satisfaction</th>\n",
              "      <th>avg_income</th>\n",
              "      <th>median_income</th>\n",
              "      <th>income_inequality</th>\n",
              "      <th>happyScore</th>\n",
              "      <th>GDP</th>\n",
              "    </tr>\n",
              "  </thead>\n",
              "  <tbody>\n",
              "    <tr>\n",
              "      <th>adjusted_satisfaction</th>\n",
              "      <td>1.000000</td>\n",
              "      <td>0.981629</td>\n",
              "      <td>-0.497192</td>\n",
              "      <td>0.803010</td>\n",
              "      <td>0.779671</td>\n",
              "      <td>-0.168049</td>\n",
              "      <td>0.900697</td>\n",
              "      <td>0.766098</td>\n",
              "    </tr>\n",
              "    <tr>\n",
              "      <th>avg_satisfaction</th>\n",
              "      <td>0.981629</td>\n",
              "      <td>1.000000</td>\n",
              "      <td>-0.354810</td>\n",
              "      <td>0.808310</td>\n",
              "      <td>0.782479</td>\n",
              "      <td>-0.137139</td>\n",
              "      <td>0.893395</td>\n",
              "      <td>0.773521</td>\n",
              "    </tr>\n",
              "    <tr>\n",
              "      <th>std_satisfaction</th>\n",
              "      <td>-0.497192</td>\n",
              "      <td>-0.354810</td>\n",
              "      <td>1.000000</td>\n",
              "      <td>-0.317653</td>\n",
              "      <td>-0.309697</td>\n",
              "      <td>0.182610</td>\n",
              "      <td>-0.421175</td>\n",
              "      <td>-0.275832</td>\n",
              "    </tr>\n",
              "    <tr>\n",
              "      <th>avg_income</th>\n",
              "      <td>0.803010</td>\n",
              "      <td>0.808310</td>\n",
              "      <td>-0.317653</td>\n",
              "      <td>1.000000</td>\n",
              "      <td>0.990839</td>\n",
              "      <td>-0.356069</td>\n",
              "      <td>0.819542</td>\n",
              "      <td>0.960969</td>\n",
              "    </tr>\n",
              "    <tr>\n",
              "      <th>median_income</th>\n",
              "      <td>0.779671</td>\n",
              "      <td>0.782479</td>\n",
              "      <td>-0.309697</td>\n",
              "      <td>0.990839</td>\n",
              "      <td>1.000000</td>\n",
              "      <td>-0.448926</td>\n",
              "      <td>0.806704</td>\n",
              "      <td>0.961583</td>\n",
              "    </tr>\n",
              "    <tr>\n",
              "      <th>income_inequality</th>\n",
              "      <td>-0.168049</td>\n",
              "      <td>-0.137139</td>\n",
              "      <td>0.182610</td>\n",
              "      <td>-0.356069</td>\n",
              "      <td>-0.448926</td>\n",
              "      <td>1.000000</td>\n",
              "      <td>-0.242107</td>\n",
              "      <td>-0.409767</td>\n",
              "    </tr>\n",
              "    <tr>\n",
              "      <th>happyScore</th>\n",
              "      <td>0.900697</td>\n",
              "      <td>0.893395</td>\n",
              "      <td>-0.421175</td>\n",
              "      <td>0.819542</td>\n",
              "      <td>0.806704</td>\n",
              "      <td>-0.242107</td>\n",
              "      <td>1.000000</td>\n",
              "      <td>0.793673</td>\n",
              "    </tr>\n",
              "    <tr>\n",
              "      <th>GDP</th>\n",
              "      <td>0.766098</td>\n",
              "      <td>0.773521</td>\n",
              "      <td>-0.275832</td>\n",
              "      <td>0.960969</td>\n",
              "      <td>0.961583</td>\n",
              "      <td>-0.409767</td>\n",
              "      <td>0.793673</td>\n",
              "      <td>1.000000</td>\n",
              "    </tr>\n",
              "  </tbody>\n",
              "</table>\n",
              "</div>\n",
              "      <button class=\"colab-df-convert\" onclick=\"convertToInteractive('df-c2fe07fe-7dab-432f-a66c-e816a3cb64a9')\"\n",
              "              title=\"Convert this dataframe to an interactive table.\"\n",
              "              style=\"display:none;\">\n",
              "        \n",
              "  <svg xmlns=\"http://www.w3.org/2000/svg\" height=\"24px\"viewBox=\"0 0 24 24\"\n",
              "       width=\"24px\">\n",
              "    <path d=\"M0 0h24v24H0V0z\" fill=\"none\"/>\n",
              "    <path d=\"M18.56 5.44l.94 2.06.94-2.06 2.06-.94-2.06-.94-.94-2.06-.94 2.06-2.06.94zm-11 1L8.5 8.5l.94-2.06 2.06-.94-2.06-.94L8.5 2.5l-.94 2.06-2.06.94zm10 10l.94 2.06.94-2.06 2.06-.94-2.06-.94-.94-2.06-.94 2.06-2.06.94z\"/><path d=\"M17.41 7.96l-1.37-1.37c-.4-.4-.92-.59-1.43-.59-.52 0-1.04.2-1.43.59L10.3 9.45l-7.72 7.72c-.78.78-.78 2.05 0 2.83L4 21.41c.39.39.9.59 1.41.59.51 0 1.02-.2 1.41-.59l7.78-7.78 2.81-2.81c.8-.78.8-2.07 0-2.86zM5.41 20L4 18.59l7.72-7.72 1.47 1.35L5.41 20z\"/>\n",
              "  </svg>\n",
              "      </button>\n",
              "      \n",
              "  <style>\n",
              "    .colab-df-container {\n",
              "      display:flex;\n",
              "      flex-wrap:wrap;\n",
              "      gap: 12px;\n",
              "    }\n",
              "\n",
              "    .colab-df-convert {\n",
              "      background-color: #E8F0FE;\n",
              "      border: none;\n",
              "      border-radius: 50%;\n",
              "      cursor: pointer;\n",
              "      display: none;\n",
              "      fill: #1967D2;\n",
              "      height: 32px;\n",
              "      padding: 0 0 0 0;\n",
              "      width: 32px;\n",
              "    }\n",
              "\n",
              "    .colab-df-convert:hover {\n",
              "      background-color: #E2EBFA;\n",
              "      box-shadow: 0px 1px 2px rgba(60, 64, 67, 0.3), 0px 1px 3px 1px rgba(60, 64, 67, 0.15);\n",
              "      fill: #174EA6;\n",
              "    }\n",
              "\n",
              "    [theme=dark] .colab-df-convert {\n",
              "      background-color: #3B4455;\n",
              "      fill: #D2E3FC;\n",
              "    }\n",
              "\n",
              "    [theme=dark] .colab-df-convert:hover {\n",
              "      background-color: #434B5C;\n",
              "      box-shadow: 0px 1px 3px 1px rgba(0, 0, 0, 0.15);\n",
              "      filter: drop-shadow(0px 1px 2px rgba(0, 0, 0, 0.3));\n",
              "      fill: #FFFFFF;\n",
              "    }\n",
              "  </style>\n",
              "\n",
              "      <script>\n",
              "        const buttonEl =\n",
              "          document.querySelector('#df-c2fe07fe-7dab-432f-a66c-e816a3cb64a9 button.colab-df-convert');\n",
              "        buttonEl.style.display =\n",
              "          google.colab.kernel.accessAllowed ? 'block' : 'none';\n",
              "\n",
              "        async function convertToInteractive(key) {\n",
              "          const element = document.querySelector('#df-c2fe07fe-7dab-432f-a66c-e816a3cb64a9');\n",
              "          const dataTable =\n",
              "            await google.colab.kernel.invokeFunction('convertToInteractive',\n",
              "                                                     [key], {});\n",
              "          if (!dataTable) return;\n",
              "\n",
              "          const docLinkHtml = 'Like what you see? Visit the ' +\n",
              "            '<a target=\"_blank\" href=https://colab.research.google.com/notebooks/data_table.ipynb>data table notebook</a>'\n",
              "            + ' to learn more about interactive tables.';\n",
              "          element.innerHTML = '';\n",
              "          dataTable['output_type'] = 'display_data';\n",
              "          await google.colab.output.renderOutput(dataTable, element);\n",
              "          const docLink = document.createElement('div');\n",
              "          docLink.innerHTML = docLinkHtml;\n",
              "          element.appendChild(docLink);\n",
              "        }\n",
              "      </script>\n",
              "    </div>\n",
              "  </div>\n",
              "  "
            ]
          },
          "metadata": {},
          "execution_count": 43
        }
      ]
    },
    {
      "cell_type": "code",
      "source": [
        "df.corr(method='kendall')"
      ],
      "metadata": {
        "id": "Y3lh0-I_Gx5F",
        "colab": {
          "base_uri": "https://localhost:8080/",
          "height": 300
        },
        "outputId": "3551b12a-a3ed-45bd-f01d-52e3d0fafc06"
      },
      "execution_count": null,
      "outputs": [
        {
          "output_type": "execute_result",
          "data": {
            "text/plain": [
              "                       adjusted_satisfaction  avg_satisfaction  \\\n",
              "adjusted_satisfaction               1.000000          0.905145   \n",
              "avg_satisfaction                    0.905145          1.000000   \n",
              "std_satisfaction                   -0.378239         -0.266347   \n",
              "avg_income                          0.614896          0.618270   \n",
              "median_income                       0.593379          0.593810   \n",
              "income_inequality                  -0.124810         -0.104128   \n",
              "happyScore                          0.741682          0.732966   \n",
              "GDP                                 0.581131          0.591166   \n",
              "\n",
              "                       std_satisfaction  avg_income  median_income  \\\n",
              "adjusted_satisfaction         -0.378239    0.614896       0.593379   \n",
              "avg_satisfaction              -0.266347    0.618270       0.593810   \n",
              "std_satisfaction               1.000000   -0.237797      -0.233515   \n",
              "avg_income                    -0.237797    1.000000       0.929566   \n",
              "median_income                 -0.233515    0.929566       1.000000   \n",
              "income_inequality              0.124672   -0.229994      -0.299779   \n",
              "happyScore                    -0.320795    0.622277       0.614087   \n",
              "GDP                           -0.205190    0.841441       0.847011   \n",
              "\n",
              "                       income_inequality  happyScore       GDP  \n",
              "adjusted_satisfaction          -0.124810    0.741682  0.581131  \n",
              "avg_satisfaction               -0.104128    0.732966  0.591166  \n",
              "std_satisfaction                0.124672   -0.320795 -0.205190  \n",
              "avg_income                     -0.229994    0.622277  0.841441  \n",
              "median_income                  -0.299779    0.614087  0.847011  \n",
              "income_inequality               1.000000   -0.166762 -0.264067  \n",
              "happyScore                     -0.166762    1.000000  0.601310  \n",
              "GDP                            -0.264067    0.601310  1.000000  "
            ],
            "text/html": [
              "\n",
              "  <div id=\"df-42b73bf6-9df3-42bc-b6f8-4989be24828a\">\n",
              "    <div class=\"colab-df-container\">\n",
              "      <div>\n",
              "<style scoped>\n",
              "    .dataframe tbody tr th:only-of-type {\n",
              "        vertical-align: middle;\n",
              "    }\n",
              "\n",
              "    .dataframe tbody tr th {\n",
              "        vertical-align: top;\n",
              "    }\n",
              "\n",
              "    .dataframe thead th {\n",
              "        text-align: right;\n",
              "    }\n",
              "</style>\n",
              "<table border=\"1\" class=\"dataframe\">\n",
              "  <thead>\n",
              "    <tr style=\"text-align: right;\">\n",
              "      <th></th>\n",
              "      <th>adjusted_satisfaction</th>\n",
              "      <th>avg_satisfaction</th>\n",
              "      <th>std_satisfaction</th>\n",
              "      <th>avg_income</th>\n",
              "      <th>median_income</th>\n",
              "      <th>income_inequality</th>\n",
              "      <th>happyScore</th>\n",
              "      <th>GDP</th>\n",
              "    </tr>\n",
              "  </thead>\n",
              "  <tbody>\n",
              "    <tr>\n",
              "      <th>adjusted_satisfaction</th>\n",
              "      <td>1.000000</td>\n",
              "      <td>0.905145</td>\n",
              "      <td>-0.378239</td>\n",
              "      <td>0.614896</td>\n",
              "      <td>0.593379</td>\n",
              "      <td>-0.124810</td>\n",
              "      <td>0.741682</td>\n",
              "      <td>0.581131</td>\n",
              "    </tr>\n",
              "    <tr>\n",
              "      <th>avg_satisfaction</th>\n",
              "      <td>0.905145</td>\n",
              "      <td>1.000000</td>\n",
              "      <td>-0.266347</td>\n",
              "      <td>0.618270</td>\n",
              "      <td>0.593810</td>\n",
              "      <td>-0.104128</td>\n",
              "      <td>0.732966</td>\n",
              "      <td>0.591166</td>\n",
              "    </tr>\n",
              "    <tr>\n",
              "      <th>std_satisfaction</th>\n",
              "      <td>-0.378239</td>\n",
              "      <td>-0.266347</td>\n",
              "      <td>1.000000</td>\n",
              "      <td>-0.237797</td>\n",
              "      <td>-0.233515</td>\n",
              "      <td>0.124672</td>\n",
              "      <td>-0.320795</td>\n",
              "      <td>-0.205190</td>\n",
              "    </tr>\n",
              "    <tr>\n",
              "      <th>avg_income</th>\n",
              "      <td>0.614896</td>\n",
              "      <td>0.618270</td>\n",
              "      <td>-0.237797</td>\n",
              "      <td>1.000000</td>\n",
              "      <td>0.929566</td>\n",
              "      <td>-0.229994</td>\n",
              "      <td>0.622277</td>\n",
              "      <td>0.841441</td>\n",
              "    </tr>\n",
              "    <tr>\n",
              "      <th>median_income</th>\n",
              "      <td>0.593379</td>\n",
              "      <td>0.593810</td>\n",
              "      <td>-0.233515</td>\n",
              "      <td>0.929566</td>\n",
              "      <td>1.000000</td>\n",
              "      <td>-0.299779</td>\n",
              "      <td>0.614087</td>\n",
              "      <td>0.847011</td>\n",
              "    </tr>\n",
              "    <tr>\n",
              "      <th>income_inequality</th>\n",
              "      <td>-0.124810</td>\n",
              "      <td>-0.104128</td>\n",
              "      <td>0.124672</td>\n",
              "      <td>-0.229994</td>\n",
              "      <td>-0.299779</td>\n",
              "      <td>1.000000</td>\n",
              "      <td>-0.166762</td>\n",
              "      <td>-0.264067</td>\n",
              "    </tr>\n",
              "    <tr>\n",
              "      <th>happyScore</th>\n",
              "      <td>0.741682</td>\n",
              "      <td>0.732966</td>\n",
              "      <td>-0.320795</td>\n",
              "      <td>0.622277</td>\n",
              "      <td>0.614087</td>\n",
              "      <td>-0.166762</td>\n",
              "      <td>1.000000</td>\n",
              "      <td>0.601310</td>\n",
              "    </tr>\n",
              "    <tr>\n",
              "      <th>GDP</th>\n",
              "      <td>0.581131</td>\n",
              "      <td>0.591166</td>\n",
              "      <td>-0.205190</td>\n",
              "      <td>0.841441</td>\n",
              "      <td>0.847011</td>\n",
              "      <td>-0.264067</td>\n",
              "      <td>0.601310</td>\n",
              "      <td>1.000000</td>\n",
              "    </tr>\n",
              "  </tbody>\n",
              "</table>\n",
              "</div>\n",
              "      <button class=\"colab-df-convert\" onclick=\"convertToInteractive('df-42b73bf6-9df3-42bc-b6f8-4989be24828a')\"\n",
              "              title=\"Convert this dataframe to an interactive table.\"\n",
              "              style=\"display:none;\">\n",
              "        \n",
              "  <svg xmlns=\"http://www.w3.org/2000/svg\" height=\"24px\"viewBox=\"0 0 24 24\"\n",
              "       width=\"24px\">\n",
              "    <path d=\"M0 0h24v24H0V0z\" fill=\"none\"/>\n",
              "    <path d=\"M18.56 5.44l.94 2.06.94-2.06 2.06-.94-2.06-.94-.94-2.06-.94 2.06-2.06.94zm-11 1L8.5 8.5l.94-2.06 2.06-.94-2.06-.94L8.5 2.5l-.94 2.06-2.06.94zm10 10l.94 2.06.94-2.06 2.06-.94-2.06-.94-.94-2.06-.94 2.06-2.06.94z\"/><path d=\"M17.41 7.96l-1.37-1.37c-.4-.4-.92-.59-1.43-.59-.52 0-1.04.2-1.43.59L10.3 9.45l-7.72 7.72c-.78.78-.78 2.05 0 2.83L4 21.41c.39.39.9.59 1.41.59.51 0 1.02-.2 1.41-.59l7.78-7.78 2.81-2.81c.8-.78.8-2.07 0-2.86zM5.41 20L4 18.59l7.72-7.72 1.47 1.35L5.41 20z\"/>\n",
              "  </svg>\n",
              "      </button>\n",
              "      \n",
              "  <style>\n",
              "    .colab-df-container {\n",
              "      display:flex;\n",
              "      flex-wrap:wrap;\n",
              "      gap: 12px;\n",
              "    }\n",
              "\n",
              "    .colab-df-convert {\n",
              "      background-color: #E8F0FE;\n",
              "      border: none;\n",
              "      border-radius: 50%;\n",
              "      cursor: pointer;\n",
              "      display: none;\n",
              "      fill: #1967D2;\n",
              "      height: 32px;\n",
              "      padding: 0 0 0 0;\n",
              "      width: 32px;\n",
              "    }\n",
              "\n",
              "    .colab-df-convert:hover {\n",
              "      background-color: #E2EBFA;\n",
              "      box-shadow: 0px 1px 2px rgba(60, 64, 67, 0.3), 0px 1px 3px 1px rgba(60, 64, 67, 0.15);\n",
              "      fill: #174EA6;\n",
              "    }\n",
              "\n",
              "    [theme=dark] .colab-df-convert {\n",
              "      background-color: #3B4455;\n",
              "      fill: #D2E3FC;\n",
              "    }\n",
              "\n",
              "    [theme=dark] .colab-df-convert:hover {\n",
              "      background-color: #434B5C;\n",
              "      box-shadow: 0px 1px 3px 1px rgba(0, 0, 0, 0.15);\n",
              "      filter: drop-shadow(0px 1px 2px rgba(0, 0, 0, 0.3));\n",
              "      fill: #FFFFFF;\n",
              "    }\n",
              "  </style>\n",
              "\n",
              "      <script>\n",
              "        const buttonEl =\n",
              "          document.querySelector('#df-42b73bf6-9df3-42bc-b6f8-4989be24828a button.colab-df-convert');\n",
              "        buttonEl.style.display =\n",
              "          google.colab.kernel.accessAllowed ? 'block' : 'none';\n",
              "\n",
              "        async function convertToInteractive(key) {\n",
              "          const element = document.querySelector('#df-42b73bf6-9df3-42bc-b6f8-4989be24828a');\n",
              "          const dataTable =\n",
              "            await google.colab.kernel.invokeFunction('convertToInteractive',\n",
              "                                                     [key], {});\n",
              "          if (!dataTable) return;\n",
              "\n",
              "          const docLinkHtml = 'Like what you see? Visit the ' +\n",
              "            '<a target=\"_blank\" href=https://colab.research.google.com/notebooks/data_table.ipynb>data table notebook</a>'\n",
              "            + ' to learn more about interactive tables.';\n",
              "          element.innerHTML = '';\n",
              "          dataTable['output_type'] = 'display_data';\n",
              "          await google.colab.output.renderOutput(dataTable, element);\n",
              "          const docLink = document.createElement('div');\n",
              "          docLink.innerHTML = docLinkHtml;\n",
              "          element.appendChild(docLink);\n",
              "        }\n",
              "      </script>\n",
              "    </div>\n",
              "  </div>\n",
              "  "
            ]
          },
          "metadata": {},
          "execution_count": 44
        }
      ]
    },
    {
      "cell_type": "code",
      "source": [
        "from scipy.stats import chisquare"
      ],
      "metadata": {
        "id": "S54s4jHKGx74"
      },
      "execution_count": null,
      "outputs": []
    },
    {
      "cell_type": "markdown",
      "source": [
        "**With f_obs values**"
      ],
      "metadata": {
        "id": "A0-SRoRwI4HM"
      }
    },
    {
      "cell_type": "code",
      "source": [
        "f_obs=[16, 12, 16, 18, 14, 12]\n",
        "chisq=chisquare(f_obs).statistic\n",
        "pvalue=chisquare(f_obs).pvalue\n",
        "print(\"chisquare statistic :\",chisq)\n",
        "print(\"p_value :\",pvalue)"
      ],
      "metadata": {
        "id": "x0ul0LMGGx-t",
        "colab": {
          "base_uri": "https://localhost:8080/"
        },
        "outputId": "a6479d46-f503-420f-9856-2b96ba8ca906"
      },
      "execution_count": null,
      "outputs": [
        {
          "output_type": "stream",
          "name": "stdout",
          "text": [
            "chisquare statistic : 2.0\n",
            "p_value : 0.8491450360846096\n"
          ]
        }
      ]
    },
    {
      "cell_type": "markdown",
      "source": [
        "**With f_exp and f_obs values**"
      ],
      "metadata": {
        "id": "InWGY6R4H8CO"
      }
    },
    {
      "cell_type": "code",
      "source": [
        "f_obs=[16, 12, 16, 18, 14, 12]\n",
        "f_exp=[16, 8, 16, 16, 16, 16]\n",
        "chisquare(f_obs,f_exp)"
      ],
      "metadata": {
        "id": "yxf5lmnOHD_s",
        "colab": {
          "base_uri": "https://localhost:8080/"
        },
        "outputId": "b88ccf3a-11ce-40d1-af05-b7a55f9e6155"
      },
      "execution_count": null,
      "outputs": [
        {
          "output_type": "execute_result",
          "data": {
            "text/plain": [
              "Power_divergenceResult(statistic=3.5, pvalue=0.6233876277495822)"
            ]
          },
          "metadata": {},
          "execution_count": 48
        }
      ]
    },
    {
      "cell_type": "markdown",
      "source": [
        "**With f_obs as 2d**"
      ],
      "metadata": {
        "id": "nyNXyntyH3vA"
      }
    },
    {
      "cell_type": "code",
      "source": [
        "f_obs=[[16, 12, 16, 18, 14, 12],[24, 12, 32, 16, 32, 12]] # The test is automatically applied to each column\n",
        "chisquare(f_obs)"
      ],
      "metadata": {
        "id": "OOCycpIjHEHy",
        "colab": {
          "base_uri": "https://localhost:8080/"
        },
        "outputId": "d22d7935-af37-40f4-cb0f-3d340796c2e8"
      },
      "execution_count": null,
      "outputs": [
        {
          "output_type": "execute_result",
          "data": {
            "text/plain": [
              "Power_divergenceResult(statistic=array([1.6       , 0.        , 5.33333333, 0.11764706, 7.04347826,\n",
              "       0.        ]), pvalue=array([0.20590321, 1.        , 0.02092134, 0.73160059, 0.00795544,\n",
              "       1.        ]))"
            ]
          },
          "metadata": {},
          "execution_count": 49
        }
      ]
    },
    {
      "cell_type": "markdown",
      "source": [
        "**With axis as None**"
      ],
      "metadata": {
        "id": "zBM0RLRWHz4O"
      }
    },
    {
      "cell_type": "code",
      "source": [
        "f_obs=[[16, 12, 16, 18, 14, 12],[24, 12, 32, 16, 32, 12]] # The test is applied to the whole data\n",
        "chisquare(f_obs, axis=None)"
      ],
      "metadata": {
        "id": "knGGBXP6HHu-",
        "colab": {
          "base_uri": "https://localhost:8080/"
        },
        "outputId": "9d276cc9-fa62-4c7b-8223-7e1a1de55a79"
      },
      "execution_count": null,
      "outputs": [
        {
          "output_type": "execute_result",
          "data": {
            "text/plain": [
              "Power_divergenceResult(statistic=33.33333333333333, pvalue=0.0004645423926184954)"
            ]
          },
          "metadata": {},
          "execution_count": 50
        }
      ]
    },
    {
      "cell_type": "markdown",
      "source": [
        "***With axis as 1***"
      ],
      "metadata": {
        "id": "lOM11xP0HiZw"
      }
    },
    {
      "cell_type": "code",
      "source": [
        "f_obs=[16, 12, 16, 18, 14, 12]\n",
        "f_exp=[[16, 12, 16, 18, 14, 12],[16, 8, 16, 16, 16, 16]]\n",
        "chisquare(f_obs,f_exp,axis=1)"
      ],
      "metadata": {
        "id": "Dn11ik1bHSfi",
        "colab": {
          "base_uri": "https://localhost:8080/"
        },
        "outputId": "ab26745b-3e3e-4d1b-f5e1-a7d09a4980af"
      },
      "execution_count": null,
      "outputs": [
        {
          "output_type": "execute_result",
          "data": {
            "text/plain": [
              "Power_divergenceResult(statistic=array([0. , 3.5]), pvalue=array([1.        , 0.62338763]))"
            ]
          },
          "metadata": {},
          "execution_count": 51
        }
      ]
    },
    {
      "cell_type": "markdown",
      "source": [
        "**With ddof specified**"
      ],
      "metadata": {
        "id": "13rQw46JHdid"
      }
    },
    {
      "cell_type": "code",
      "source": [
        "f_obs=[16, 12, 16, 18, 14, 12]\n",
        "chisquare(f_obs, ddof=1)"
      ],
      "metadata": {
        "id": "Jout7-oJHSiO",
        "colab": {
          "base_uri": "https://localhost:8080/"
        },
        "outputId": "d11bdd9b-cc52-4b34-b7b0-b275c3e2b529"
      },
      "execution_count": null,
      "outputs": [
        {
          "output_type": "execute_result",
          "data": {
            "text/plain": [
              "Power_divergenceResult(statistic=2.0, pvalue=0.7357588823428847)"
            ]
          },
          "metadata": {},
          "execution_count": 52
        }
      ]
    },
    {
      "cell_type": "code",
      "source": [
        "chisquare(f_obs,ddof=[0,1])"
      ],
      "metadata": {
        "id": "csIO6AcFHSlK",
        "colab": {
          "base_uri": "https://localhost:8080/"
        },
        "outputId": "5b6ca094-5820-4eeb-ef46-344104ee34c4"
      },
      "execution_count": null,
      "outputs": [
        {
          "output_type": "execute_result",
          "data": {
            "text/plain": [
              "Power_divergenceResult(statistic=2.0, pvalue=array([0.84914504, 0.73575888]))"
            ]
          },
          "metadata": {},
          "execution_count": 53
        }
      ]
    },
    {
      "cell_type": "code",
      "source": [
        "chisquare(f_obs,ddof=[0,1,2])"
      ],
      "metadata": {
        "id": "8KU9CZEkHYyv",
        "colab": {
          "base_uri": "https://localhost:8080/"
        },
        "outputId": "3d4d42dd-74a6-4c1c-f475-982b7b5e62e5"
      },
      "execution_count": null,
      "outputs": [
        {
          "output_type": "execute_result",
          "data": {
            "text/plain": [
              "Power_divergenceResult(statistic=2.0, pvalue=array([0.84914504, 0.73575888, 0.5724067 ]))"
            ]
          },
          "metadata": {},
          "execution_count": 54
        }
      ]
    }
  ]
}